{
 "cells": [
  {
   "cell_type": "code",
   "execution_count": 1,
   "id": "a6669958-0ce5-498a-ba21-2842aeaa0b38",
   "metadata": {},
   "outputs": [],
   "source": [
    "%matplotlib widget\n",
    "\n",
    "import matplotlib.pyplot as plt\n",
    "import matplotlib.animation as animation\n",
    "import threading\n",
    "import time\n",
    "\n",
    "import numpy as np\n",
    "import time\n",
    "from rr_python_sdk import cpp, MeasurementHead, msg_map_to_host"
   ]
  },
  {
   "cell_type": "code",
   "execution_count": 2,
   "id": "071d374f-321a-484f-a000-e6d5d6eb2d0c",
   "metadata": {},
   "outputs": [
    {
     "name": "stdout",
     "output_type": "stream",
     "text": [
      "USB Serial Port (COM6) 1027\n",
      "Auto detected: USB Serial Port (COM6)\n",
      "Handshake acknowledged: <rr_python_sdk.mh_protocol_py.HandshakeToHostPayload object at 0x000002A702D9C630>\n"
     ]
    }
   ],
   "source": [
    "head = MeasurementHead()"
   ]
  },
  {
   "cell_type": "code",
   "execution_count": 114,
   "id": "e0572785-4112-4fcd-841d-dc50f8a3de4b",
   "metadata": {},
   "outputs": [
    {
     "name": "stdout",
     "output_type": "stream",
     "text": [
      "Handshake acknowledged: <rr_python_sdk.mh_protocol_py.HandshakeToHostPayload object at 0x000002A7034A8570>\n"
     ]
    },
    {
     "data": {
      "text/plain": [
       "True"
      ]
     },
     "execution_count": 114,
     "metadata": {},
     "output_type": "execute_result"
    }
   ],
   "source": [
    "head.shakehands()"
   ]
  },
  {
   "cell_type": "code",
   "execution_count": 115,
   "id": "685f2fd5-6432-4b60-9a8c-5b93979f496d",
   "metadata": {},
   "outputs": [],
   "source": [
    "head.zero_forces()"
   ]
  },
  {
   "cell_type": "code",
   "execution_count": 121,
   "id": "e9dee42c-dd90-442e-85ab-e24444021b51",
   "metadata": {},
   "outputs": [],
   "source": [
    "head.write_config_to_flash()"
   ]
  },
  {
   "cell_type": "code",
   "execution_count": 119,
   "id": "694886dc-29bc-4d7d-b22a-092901e1c991",
   "metadata": {},
   "outputs": [],
   "source": [
    "payload = cpp.SetForcePayload()\n",
    "payload.force_mn = 30000\n",
    "head.start_force_control(payload)"
   ]
  },
  {
   "cell_type": "code",
   "execution_count": 69,
   "id": "95703f54-8f10-4cbc-ad75-96d2467765b8",
   "metadata": {},
   "outputs": [],
   "source": [
    "payload = cpp.SetForcePayload()\n",
    "payload.force_mn = 50000\n",
    "head.update_set_force(payload)"
   ]
  },
  {
   "cell_type": "code",
   "execution_count": 117,
   "id": "2b2b993f-021c-4c2b-87fa-8d251fd30cf7",
   "metadata": {},
   "outputs": [],
   "source": [
    "payload = cpp.PidConfig()\n",
    "payload.diferential_decay = 0.5\n",
    "payload.n_settle = 10\n",
    "payload.PID_P = 0.0008\n",
    "payload.PID_D = 50\n",
    "head.update_pid_config(payload)"
   ]
  },
  {
   "cell_type": "code",
   "execution_count": 120,
   "id": "03d7dff9-6c99-4e1b-87fd-b13f3a631c89",
   "metadata": {},
   "outputs": [],
   "source": [
    "head.home()"
   ]
  },
  {
   "cell_type": "code",
   "execution_count": 4,
   "id": "3bbfa434-05e9-48f8-a88c-125faf8ad1b0",
   "metadata": {},
   "outputs": [],
   "source": [
    "payload = cpp.JogPayload()\n",
    "payload.distance_mm = 5.0\n",
    "head.jog_motor(payload)"
   ]
  },
  {
   "cell_type": "code",
   "execution_count": 55,
   "id": "5c2fa478-28de-4b8e-8cef-5f1175a87d7c",
   "metadata": {},
   "outputs": [],
   "source": [
    "head.request_current_force_data()"
   ]
  },
  {
   "cell_type": "code",
   "execution_count": 56,
   "id": "1c739d68-0ba9-49c1-8721-0f61e3c15be1",
   "metadata": {},
   "outputs": [],
   "source": []
  },
  {
   "cell_type": "code",
   "execution_count": 36,
   "id": "5ec69e29-2182-4965-8784-0eeb4f02520e",
   "metadata": {},
   "outputs": [],
   "source": [
    "head.enter_load_cell_calibration_mode_normal()"
   ]
  },
  {
   "cell_type": "code",
   "execution_count": 28,
   "id": "4c7ed3a6-c418-4eff-b50d-824cb67aa2d9",
   "metadata": {},
   "outputs": [],
   "source": [
    "coeff_n = cpp.LoadCellCalibrationCoef()\n",
    "coeff_n.OFFSET_B = 0b1100000000110111 # was 0b1111101000111111\n",
    "coeff_n.GAIN_B = 0b1001001110110101"
   ]
  },
  {
   "cell_type": "code",
   "execution_count": 29,
   "id": "383c28e9-9195-473f-95dd-ed61b96c7570",
   "metadata": {},
   "outputs": [],
   "source": [
    "head.write_calibration_coefficients_normal(coeff_n)"
   ]
  },
  {
   "cell_type": "code",
   "execution_count": 37,
   "id": "56e75c82-5bcd-4376-b44b-fc79bf9095dc",
   "metadata": {},
   "outputs": [],
   "source": [
    "head.exit_load_cell_calibration_mode_normal()"
   ]
  },
  {
   "cell_type": "code",
   "execution_count": 10,
   "id": "3d3ec5ce-267d-491d-9e78-5ef5cb75abbf",
   "metadata": {},
   "outputs": [],
   "source": [
    "head.enter_load_cell_calibration_mode_tangential()"
   ]
  },
  {
   "cell_type": "code",
   "execution_count": 12,
   "id": "1a4ae777-5c3d-479e-87be-ad336d66f3ba",
   "metadata": {},
   "outputs": [],
   "source": [
    "coeff_t = cpp.LoadCellCalibrationCoef()\n",
    "coeff_t.OFFSET_B = 0b0\n",
    "coeff_t.GAIN_B = 0b100100111011010 # just half the gain, no offset"
   ]
  },
  {
   "cell_type": "code",
   "execution_count": 14,
   "id": "8d8ba21c-b0f2-49cd-9553-2394f0e03900",
   "metadata": {},
   "outputs": [],
   "source": [
    "head.write_calibration_coefficients_tangential(coeff_t)"
   ]
  },
  {
   "cell_type": "code",
   "execution_count": 7,
   "id": "e004cbbc-bc8b-40d3-b47f-9f32c5198705",
   "metadata": {},
   "outputs": [],
   "source": [
    "head.request_angle()"
   ]
  },
  {
   "cell_type": "code",
   "execution_count": 32,
   "id": "16f82d06-9fa2-4c3a-a00e-7cf5d0fc35bb",
   "metadata": {},
   "outputs": [],
   "source": [
    "head.request_acceleration_data()"
   ]
  },
  {
   "cell_type": "code",
   "execution_count": 33,
   "id": "4128556b-2233-483d-8a84-8defc0cfeb42",
   "metadata": {},
   "outputs": [],
   "source": [
    "head.request_orientation()"
   ]
  },
  {
   "cell_type": "code",
   "execution_count": 31,
   "id": "ad08a72e-05d9-429c-8faa-54f64869515c",
   "metadata": {},
   "outputs": [
    {
     "name": "stdout",
     "output_type": "stream",
     "text": [
      "No message\n"
     ]
    }
   ],
   "source": [
    "a = head.read()\n",
    "match a.type:\n",
    "    case cpp.MsgType_ToHost.ERR:\n",
    "        print(f\"Error {a.data.reason}\")\n",
    "    case cpp.MsgType_ToHost.FaultData:\n",
    "        print(f\"Fault {a.data.fault_status:0b}, {int(np.log2(a.data.fault_status))}\")\n",
    "    case cpp.MsgType_ToHost.ACK:\n",
    "        print(f\"Ack {a.data.msg_type}\")\n",
    "    case cpp.MsgType_ToHost.NoMessage:\n",
    "        print(\"No message\")\n",
    "    case cpp.MsgType_ToHost.CurrentData:\n",
    "        print(f\"Force data: N {a.data.f_normal_mn}mN, T {a.data.f_tangential_mn}mN\")\n",
    "    case cpp.MsgType_ToHost.OrientationData:\n",
    "        print(f\"Orientation data: incline: {a.data.incline}, roll: {a.data.roll}\")\n",
    "    case _:\n",
    "        print(\"Message:\", a.type, a.data)"
   ]
  },
  {
   "cell_type": "code",
   "execution_count": 122,
   "id": "6dc50a40-315a-49f1-9a23-e7ccc7e50ced",
   "metadata": {},
   "outputs": [
    {
     "data": {
      "text/plain": [
       "[Message(type=<MsgType_ToHost.ACK: 6>, data=<rr_python_sdk.mh_protocol_py.AckPayload object at 0x000002A70300EF30>),\n",
       " Message(type=<MsgType_ToHost.ACK: 6>, data=<rr_python_sdk.mh_protocol_py.AckPayload object at 0x000002A7030878F0>),\n",
       " Message(type=<MsgType_ToHost.ACK: 6>, data=<rr_python_sdk.mh_protocol_py.AckPayload object at 0x000002A7034516B0>),\n",
       " Message(type=<MsgType_ToHost.ACK: 6>, data=<rr_python_sdk.mh_protocol_py.AckPayload object at 0x000002A7030260F0>),\n",
       " Message(type=<MsgType_ToHost.ACK: 6>, data=<rr_python_sdk.mh_protocol_py.AckPayload object at 0x000002A703026070>),\n",
       " Message(type=<MsgType_ToHost.ACK: 6>, data=<rr_python_sdk.mh_protocol_py.AckPayload object at 0x000002A703010AF0>)]"
      ]
     },
     "execution_count": 122,
     "metadata": {},
     "output_type": "execute_result"
    }
   ],
   "source": [
    "a = head.read_all()\n",
    "a"
   ]
  },
  {
   "cell_type": "code",
   "execution_count": 17,
   "id": "77638aa7-a78e-4542-bf5a-054d3d74c00f",
   "metadata": {},
   "outputs": [
    {
     "data": {
      "text/plain": [
       "<error_reason_t.E_UNRECOGNISED_COMMAND: 7>"
      ]
     },
     "execution_count": 17,
     "metadata": {},
     "output_type": "execute_result"
    }
   ],
   "source": [
    "a[-2].data.reason"
   ]
  },
  {
   "cell_type": "code",
   "execution_count": 32,
   "id": "70089deb-fd2e-428f-b508-a714886fda1a",
   "metadata": {},
   "outputs": [
    {
     "data": {
      "text/plain": [
       "'17.0'"
      ]
     },
     "execution_count": 32,
     "metadata": {},
     "output_type": "execute_result"
    }
   ],
   "source": [
    "f\"{np.log2(a[1].data.fault_status)}\""
   ]
  },
  {
   "cell_type": "code",
   "execution_count": 51,
   "id": "fcba9d8e-895c-4ba4-8381-1f57c6bc3252",
   "metadata": {},
   "outputs": [],
   "source": [
    "head.clear_fault()"
   ]
  },
  {
   "cell_type": "code",
   "execution_count": null,
   "id": "a4b0e4be-7b60-484c-a0fb-4a83ab884a1b",
   "metadata": {},
   "outputs": [],
   "source": [
    "print(f\"Force data: N {a.data.f_normal_mn}mN, T {a.data.f_tangential_mn}mN\")"
   ]
  },
  {
   "cell_type": "code",
   "execution_count": 46,
   "id": "dd095919-1645-4f6e-8134-7e32422e43ea",
   "metadata": {},
   "outputs": [],
   "source": [
    "head.reset_to_defaults()"
   ]
  },
  {
   "cell_type": "code",
   "execution_count": null,
   "id": "68f9fd83-c68b-4183-a620-6716b2e30070",
   "metadata": {},
   "outputs": [],
   "source": [
    "head.exit_load_cell_calibration_mode_normal()"
   ]
  },
  {
   "cell_type": "code",
   "execution_count": 16,
   "id": "23709e29-274b-45c4-b8d2-b18efc450871",
   "metadata": {},
   "outputs": [],
   "source": [
    "head.restart()"
   ]
  },
  {
   "cell_type": "code",
   "execution_count": 11,
   "id": "4b0ff785-0fcb-45c6-9fa7-7b278e358902",
   "metadata": {},
   "outputs": [
    {
     "data": {
      "text/plain": [
       "'100111'"
      ]
     },
     "execution_count": 11,
     "metadata": {},
     "output_type": "execute_result"
    }
   ],
   "source": [
    "f\"{0X27:0b}\""
   ]
  },
  {
   "cell_type": "code",
   "execution_count": null,
   "id": "951a9bf8-9504-4379-a47b-7e0bc33ba40a",
   "metadata": {},
   "outputs": [],
   "source": [
    "f\"{0b100100111011010:0X}\""
   ]
  },
  {
   "cell_type": "code",
   "execution_count": 43,
   "id": "eebbb7e3-4650-4bab-9592-51a05e89198f",
   "metadata": {},
   "outputs": [
    {
     "name": "stderr",
     "output_type": "stream",
     "text": [
      "C:\\Users\\mea08\\AppData\\Local\\Temp\\ipykernel_13564\\4011031760.py:72: UserWarning: frames=None which we can infer the length of, did not pass an explicit *save_count* and passed cache_frame_data=True.  To avoid a possibly unbounded cache, frame data caching has been disabled. To suppress this warning either pass `cache_frame_data=False` or `save_count=MAX_FRAMES`.\n",
      "  ani = animation.FuncAnimation(fig, update_wrap, blit=True, interval=100)\n"
     ]
    },
    {
     "data": {
      "application/vnd.jupyter.widget-view+json": {
       "model_id": "bb61dd42babe45db8647f637aa1df61b",
       "version_major": 2,
       "version_minor": 0
      },
      "image/png": "[encoded data removed]",
      "text/html": [
       "\n",
       "            <div style=\"display: inline-block;\">\n",
       "                <div class=\"jupyter-widgets widget-label\" style=\"text-align: center;\">\n",
       "                    Figure\n",
       "                </div>\n",
       "                <img src='data:image/png;base64,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' width=640.0/>\n",
       "            </div>\n",
       "        "
      ],
      "text/plain": [
       "Canvas(toolbar=Toolbar(toolitems=[('Home', 'Reset original view', 'home', 'home'), ('Back', 'Back to previous …"
      ]
     },
     "metadata": {},
     "output_type": "display_data"
    }
   ],
   "source": [
    "import random\n",
    "\n",
    "# Global variables\n",
    "data_n = []\n",
    "data_t = []\n",
    "running = True\n",
    "ani = None  # We'll store the animation object here\n",
    "\n",
    "# Clean-up function\n",
    "def cleanup():\n",
    "    head.stop_data_streaming()\n",
    "    # Close files, serial ports, etc.\n",
    "\n",
    "# Function to stop on spacebar\n",
    "def on_key(event):\n",
    "    global running, ani\n",
    "    if event.key == ' ':\n",
    "        cleanup()\n",
    "        running = False\n",
    "        if ani:\n",
    "            ani.event_source.stop()\n",
    "\n",
    "# Setup plot\n",
    "fig, ax = plt.subplots()\n",
    "line_n, = ax.plot([], [], 'b-')\n",
    "line_t, = ax.plot([], [], 'r-')\n",
    "ax.set_xlim(0, 100)\n",
    "ax.set_ylim(0, 1)\n",
    "fig.canvas.mpl_connect('key_press_event', on_key)\n",
    "\n",
    "# Dummy read function (replace with your actual read)\n",
    "def read(cpp, head):\n",
    "    new_d_t = []\n",
    "    new_d_n = []\n",
    "    \n",
    "    msgs = head.read_all(timeout = 0.1)\n",
    "    for msg in msgs:\n",
    "        match msg.type:\n",
    "            case cpp.MsgType_ToHost.FaultData:\n",
    "                print(f\"Fault {msg.data.fault_status:0b}, {int(np.log2(msg.data.fault_status))}\")\n",
    "                on_key(None)\n",
    "                return\n",
    "            case cpp.MsgType_ToHost.CurrentData:\n",
    "                new_d_n.append(float(msg.data.f_normal_mn))\n",
    "                new_d_t.append(float(msg.data.f_tangential_mn))\n",
    "    return new_d_n, new_d_t\n",
    "\n",
    "# Animation update function\n",
    "def update(frame):\n",
    "    global data_n, data_t, cpp, head\n",
    "    print(f\"running\")\n",
    "    if running:\n",
    "        val_n, val_t = read(cpp, head)\n",
    "        data_n.extend(val_n)\n",
    "        data_t.extend(val_t)\n",
    "        if len(data) > 100:  # keep last 100 points\n",
    "            data_n = data_n[-100:]\n",
    "            data_t = data_t[-100:]\n",
    "        line_n.set_data(range(len(data_n)), data_n)\n",
    "        line_t.set_data(range(len(data_t)), data_t)\n",
    "    return line_n, line_t\n",
    "\n",
    "def update_wrap(frame):\n",
    "    try:\n",
    "        # Your code goes here\n",
    "        update(frame)\n",
    "    except Exception as e:\n",
    "        print(f\"Exception occurred: {e}\")\n",
    "        raise\n",
    "\n",
    "# Animation\n",
    "ani = animation.FuncAnimation(fig, update_wrap, blit=True, interval=100)\n",
    "\n",
    "payload = cpp.DataRatePayload()\n",
    "payload.rate_hz = sampling_rate\n",
    "head.start_data_streaming(payload)\n",
    "\n",
    "# Show plot (blocking)\n",
    "plt.show()"
   ]
  },
  {
   "cell_type": "code",
   "execution_count": 186,
   "id": "7eb66639-0152-4d02-8cfa-fce2cee95c79",
   "metadata": {},
   "outputs": [
    {
     "name": "stdout",
     "output_type": "stream",
     "text": [
      "Bad request\n"
     ]
    }
   ],
   "source": [
    "status = 400\n",
    "match status:\n",
    "    case 400:\n",
    "        print(\"Bad request\")\n",
    "    case 404:\n",
    "        print (\"Not found\")"
   ]
  },
  {
   "cell_type": "code",
   "execution_count": 12,
   "id": "682debd1-6679-423d-9e00-b2a83da2e78b",
   "metadata": {},
   "outputs": [],
   "source": [
    "head.request_acceleration_data()"
   ]
  },
  {
   "cell_type": "code",
   "execution_count": 24,
   "id": "2387adc4-8f18-4839-8502-30970088d804",
   "metadata": {},
   "outputs": [
    {
     "data": {
      "text/plain": [
       "'<rr_python_sdk.wrapper.MeasurementHead object at 0x00000245CAF58F50>'"
      ]
     },
     "execution_count": 24,
     "metadata": {},
     "output_type": "execute_result"
    }
   ],
   "source": [
    "head.__repr__()"
   ]
  },
  {
   "cell_type": "code",
   "execution_count": null,
   "id": "d58d1d60-16bb-4691-8ee8-3b2b52823749",
   "metadata": {},
   "outputs": [],
   "source": [
    "a = head.read()\n",
    "print(a.data.x, a.data.y, a.data.z)"
   ]
  },
  {
   "cell_type": "code",
   "execution_count": null,
   "id": "337e9404-a565-4a78-a716-c1d312ecce8e",
   "metadata": {},
   "outputs": [],
   "source": [
    "head.restart()"
   ]
  },
  {
   "cell_type": "code",
   "execution_count": null,
   "id": "8e24cbbc-2371-490a-8534-09bf89343a7b",
   "metadata": {},
   "outputs": [],
   "source": [
    "a.data.fault_status"
   ]
  },
  {
   "cell_type": "code",
   "execution_count": null,
   "id": "f7c2b5ee-cd92-4339-a448-3095f25ffdea",
   "metadata": {},
   "outputs": [],
   "source": [
    "a = cpp.FaultStatusPayload()"
   ]
  },
  {
   "cell_type": "code",
   "execution_count": null,
   "id": "33c7b786-6bfd-446c-bd50-dba7def02f52",
   "metadata": {},
   "outputs": [],
   "source": [
    "f\"{0x1f:b}\""
   ]
  },
  {
   "cell_type": "code",
   "execution_count": null,
   "id": "f9f67f13-8e2f-4074-a321-9f95321a3fa6",
   "metadata": {},
   "outputs": [],
   "source": [
    "0x6081"
   ]
  },
  {
   "cell_type": "code",
   "execution_count": null,
   "id": "5eedb22d-e178-4d98-8107-04ba8526737c",
   "metadata": {},
   "outputs": [],
   "source": [
    "a = cpp.HandshakeToDevicePayload()"
   ]
  },
  {
   "cell_type": "code",
   "execution_count": null,
   "id": "00b74066-ba61-4a9d-b8b2-6d521a463628",
   "metadata": {},
   "outputs": [],
   "source": [
    "import rr_python_sdk as a"
   ]
  },
  {
   "cell_type": "code",
   "execution_count": null,
   "id": "b8cd1b88-9058-4067-8c47-549b5b3195d6",
   "metadata": {},
   "outputs": [],
   "source": [
    "a.msg_map_to_host"
   ]
  },
  {
   "cell_type": "code",
   "execution_count": null,
   "id": "76f315e7-b093-405f-9dbc-3066f6161406",
   "metadata": {},
   "outputs": [],
   "source": []
  },
  {
   "cell_type": "code",
   "execution_count": null,
   "id": "fbe82530-41fc-4988-82dd-6a66aede46a6",
   "metadata": {},
   "outputs": [],
   "source": []
  },
  {
   "cell_type": "code",
   "execution_count": null,
   "id": "7a0da883-3dd3-4735-8c94-9b23afa505bb",
   "metadata": {},
   "outputs": [],
   "source": [
    "head.read()"
   ]
  },
  {
   "cell_type": "code",
   "execution_count": null,
   "id": "8fdd1862-288c-4c6c-b8c9-7a2aea106ffe",
   "metadata": {},
   "outputs": [],
   "source": [
    "payload = cpp.JogPayload()\n",
    "payload.distance_mm = 1\n",
    "head.jog_motor(payload)"
   ]
  },
  {
   "cell_type": "code",
   "execution_count": null,
   "id": "0368673c-e822-41e0-91c0-77c49ab847f4",
   "metadata": {},
   "outputs": [],
   "source": [
    "payload = cpp.AccelerationData()\n",
    "payload.x = 1"
   ]
  },
  {
   "cell_type": "code",
   "execution_count": null,
   "id": "32a42707-d56b-450b-8eb0-caa2c2cada1c",
   "metadata": {},
   "outputs": [],
   "source": [
    "payload = cpp.HandshakeToDevicePayload()\n"
   ]
  },
  {
   "cell_type": "code",
   "execution_count": null,
   "id": "7cd097e2-203c-448e-bffd-1af59977983e",
   "metadata": {},
   "outputs": [],
   "source": [
    "locals()['hs']"
   ]
  },
  {
   "cell_type": "code",
   "execution_count": null,
   "id": "9525382e-f196-4393-a497-0bcd1f33e3ee",
   "metadata": {},
   "outputs": [],
   "source": []
  },
  {
   "cell_type": "code",
   "execution_count": null,
   "id": "5d1720b3-b99e-45e3-b802-53a9f03bba28",
   "metadata": {},
   "outputs": [],
   "source": [
    "my_head = head.MeasurementHead(\"COM5\")"
   ]
  },
  {
   "cell_type": "code",
   "execution_count": null,
   "id": "7d7e7c32-96c7-46c1-b5f4-772d7e81b937",
   "metadata": {},
   "outputs": [],
   "source": [
    "my_head.ack()"
   ]
  },
  {
   "cell_type": "code",
   "execution_count": null,
   "id": "fca9506e-e62e-4abd-9cf8-65ea04506ec3",
   "metadata": {},
   "outputs": [],
   "source": [
    "head.read()"
   ]
  },
  {
   "cell_type": "code",
   "execution_count": null,
   "id": "116be139-77c7-4b94-be84-f070513dd301",
   "metadata": {},
   "outputs": [],
   "source": [
    "head.cpp.AccelerationData()"
   ]
  },
  {
   "cell_type": "code",
   "execution_count": null,
   "id": "7d221b60-a043-4b2d-bdbe-ce9ce620b18c",
   "metadata": {},
   "outputs": [],
   "source": [
    "head.cpp.MsgType_ToHost."
   ]
  },
  {
   "cell_type": "code",
   "execution_count": null,
   "id": "9c1e1d35-6580-4779-a214-1e47843ac421",
   "metadata": {},
   "outputs": [],
   "source": [
    "# --- Force Data Point ---\n",
    "force = cpp.ForceDataPoint()  # corresponds to force_data_point_t\n",
    "force.device_status = 2\n",
    "force.f_normal_mn = 123456\n",
    "force.f_tangential_mn = -654321\n",
    "force.millis_since_start = 500\n",
    "\n",
    "# Serialize to bytes\n",
    "# We'll use memoryview/bytearray approach\n",
    "force_bytes = force.serialize()\n",
    "\n",
    "# Prepend tag for ESP (0x00)\n",
    "frame = bytes([0x00]) + force_bytes\n",
    "ser.write(frame)\n",
    "print(\"Sent force_data_point_t: 0x\" + ' 0x'.join(f'{x:02X}' for x in frame)[0:])"
   ]
  },
  {
   "cell_type": "code",
   "execution_count": null,
   "id": "bb949292-716b-4733-87c7-75edbc041302",
   "metadata": {},
   "outputs": [],
   "source": [
    "# AccelerationData\n",
    "accel = cpp.AccelerationData()\n",
    "accel.x = 1.1\n",
    "accel.y = 2.2\n",
    "accel.z = 3.3\n",
    "accel.t = 4.4\n",
    "\n",
    "accel_bytes = accel.serialize()\n",
    "ser.write(bytes([0x01]) + accel_bytes)\n",
    "print(\"Sent acceleration_data_t:\", accel_bytes)"
   ]
  },
  {
   "cell_type": "code",
   "execution_count": null,
   "id": "4a72854c-9b85-459d-bedc-54b420e631a2",
   "metadata": {},
   "outputs": [],
   "source": [
    "payload = b\"Hello ESP32!\\r\\n\"\n",
    "\n",
    "print(f\"Sending {len(payload)} bytes: {payload}\")\n",
    "ser.write(payload)\n",
    "\n",
    "# Read back the same number of bytes\n",
    "rx = ser.read(len(payload))\n",
    "print(f\"Received {len(rx)} bytes: {rx}\")\n",
    "\n",
    "# Compare\n",
    "if rx == payload:\n",
    "    print(\"✅ Echo OK\")\n",
    "else:\n",
    "    print(\"❌ Mismatch!\")\n",
    "    print(\"Sent :\", binascii.hexlify(payload))\n",
    "    print(\"Recv :\", binascii.hexlify(rx))"
   ]
  },
  {
   "cell_type": "code",
   "execution_count": null,
   "id": "1b36a663-a020-4bf7-be02-691514100787",
   "metadata": {},
   "outputs": [],
   "source": []
  },
  {
   "cell_type": "code",
   "execution_count": null,
   "id": "147fc6df-ec94-4801-8951-c78a998af536",
   "metadata": {},
   "outputs": [],
   "source": []
  },
  {
   "cell_type": "code",
   "execution_count": null,
   "id": "9ff32492-e0b8-469f-a654-c3008336652b",
   "metadata": {},
   "outputs": [],
   "source": []
  },
  {
   "cell_type": "code",
   "execution_count": null,
   "id": "be4fa0b2-30bd-4033-bc17-4f310c7ae1be",
   "metadata": {},
   "outputs": [],
   "source": [
    "ser.close()"
   ]
  },
  {
   "cell_type": "code",
   "execution_count": null,
   "id": "8dbb1aee-ef1c-4788-8e51-d448d2b4deb4",
   "metadata": {},
   "outputs": [],
   "source": []
  },
  {
   "cell_type": "code",
   "execution_count": null,
   "id": "3e519db0-698c-4f65-b4f8-6827fe268e26",
   "metadata": {},
   "outputs": [],
   "source": [
    "head = sdk.MeasurmentHead(port = \"COM11\")\n",
    "head.read_all_input()"
   ]
  },
  {
   "cell_type": "markdown",
   "id": "2c72c061-7ed8-4cc1-9a96-80bf7c9495c1",
   "metadata": {},
   "source": [
    "# Test all functions\n",
    " (In order they are in the microcontroller code)"
   ]
  },
  {
   "cell_type": "markdown",
   "id": "4d58b538-2516-4967-9541-1de58185d347",
   "metadata": {},
   "source": [
    "## Angle setting"
   ]
  },
  {
   "cell_type": "code",
   "execution_count": null,
   "id": "8492bf17-6d35-4aa7-a09a-8f8b85ce23d4",
   "metadata": {},
   "outputs": [],
   "source": [
    "head.set_angle(10)"
   ]
  },
  {
   "cell_type": "markdown",
   "id": "75209a5e-bd1b-484b-ae4e-93a9480ae081",
   "metadata": {},
   "source": [
    "## Echo input"
   ]
  },
  {
   "cell_type": "code",
   "execution_count": null,
   "id": "f9b2bcc5-6b0d-4862-86aa-2453f933cad1",
   "metadata": {},
   "outputs": [],
   "source": [
    "head.echo(b\"Hello\")"
   ]
  },
  {
   "cell_type": "markdown",
   "id": "1d8b0321-7a4b-4d87-8bb8-e272dd15e290",
   "metadata": {},
   "source": [
    "## Read and write config data\n",
    "Note, the default config will be reloaded when the device restarts"
   ]
  },
  {
   "cell_type": "code",
   "execution_count": null,
   "id": "37b0ebf7-08f9-4d42-a570-84daa207353f",
   "metadata": {},
   "outputs": [],
   "source": [
    "config = head.read_config_data()\n",
    "config.microsteps_per_step"
   ]
  },
  {
   "cell_type": "code",
   "execution_count": null,
   "id": "2739cf09-f8be-44f0-9a84-188e2a983901",
   "metadata": {},
   "outputs": [],
   "source": [
    "config.t_force_scale"
   ]
  },
  {
   "cell_type": "code",
   "execution_count": null,
   "id": "3c8a04ad-6371-433d-8a97-ed28c56b0e9e",
   "metadata": {},
   "outputs": [],
   "source": [
    "config.microsteps_per_step = 8"
   ]
  },
  {
   "cell_type": "code",
   "execution_count": null,
   "id": "36d89dea-1efc-4a52-8491-4488b637c4d1",
   "metadata": {},
   "outputs": [],
   "source": [
    "head.update_config_data(config)"
   ]
  },
  {
   "cell_type": "code",
   "execution_count": null,
   "id": "ab928f55-a3ea-4af4-aeaf-e4ef337dfa6f",
   "metadata": {},
   "outputs": [],
   "source": [
    "config = head.read_config_data()"
   ]
  },
  {
   "cell_type": "code",
   "execution_count": null,
   "id": "fc64205e-d6e0-42d5-8130-bf48d5ea234f",
   "metadata": {},
   "outputs": [],
   "source": [
    "config.microsteps_per_step"
   ]
  },
  {
   "cell_type": "markdown",
   "id": "98dbf38b-2ea5-4612-9844-3dc7809968ae",
   "metadata": {},
   "source": [
    "## Data streaming"
   ]
  },
  {
   "cell_type": "code",
   "execution_count": null,
   "id": "660ee366-2483-44cb-92fc-11ebdf1b1923",
   "metadata": {},
   "outputs": [],
   "source": [
    "i = 0\n",
    "points = []\n",
    "head.read_all_input()\n",
    "head.start_streaming_force_data(100)\n",
    "while (i<200):\n",
    "    points.append(head.read_force_data_point_from_stream())\n",
    "    i+=1\n",
    "head.stop_streaming_force_data()\n",
    "#plt.plot([p.ms_since_start for p in points], [p.f_t_mn/p.f_n_mn for p in points], label=\"mu\")\n",
    "plt.plot([p.ms_since_start for p in points], [p.f_n_mn for p in points], label=\"Normal force (mn)\")\n",
    "plt.plot([p.ms_since_start for p in points], [p.f_t_mn for p in points], label=\"Tangential force (mn)\")\n",
    "plt.legend()"
   ]
  },
  {
   "cell_type": "code",
   "execution_count": null,
   "id": "b64269e9-3d65-4182-b62b-870f1bc954b0",
   "metadata": {},
   "outputs": [],
   "source": [
    "head.stop_streaming_force_data()\n",
    "head.read_all_input()"
   ]
  },
  {
   "cell_type": "markdown",
   "id": "2aa905af-bf37-4af7-ab49-32f416c54e06",
   "metadata": {},
   "source": [
    "## Show and reset error data"
   ]
  },
  {
   "cell_type": "code",
   "execution_count": null,
   "id": "a1d9f20e-a104-402e-aaa9-599b83aaae35",
   "metadata": {},
   "outputs": [],
   "source": [
    "f\"{head.read_error_status():016b}\""
   ]
  },
  {
   "cell_type": "code",
   "execution_count": null,
   "id": "4f7e9543-51e6-421d-874f-8eb464d0dccf",
   "metadata": {},
   "outputs": [],
   "source": [
    "head.clear_error_status()"
   ]
  },
  {
   "cell_type": "markdown",
   "id": "2ddcde89-35a3-4b38-a353-7f30695f6c90",
   "metadata": {},
   "source": [
    "## Setting target force"
   ]
  },
  {
   "cell_type": "code",
   "execution_count": null,
   "id": "7a5cad10-805d-4e06-ae59-41405e70f224",
   "metadata": {},
   "outputs": [],
   "source": [
    "head.set_target_force(100000)"
   ]
  },
  {
   "cell_type": "markdown",
   "id": "5d9c1938-f534-42c8-95cc-26296b22244a",
   "metadata": {},
   "source": [
    "## Home"
   ]
  },
  {
   "cell_type": "code",
   "execution_count": null,
   "id": "959b1fac-2339-4fd6-a6b7-82a036761eb1",
   "metadata": {},
   "outputs": [],
   "source": [
    "head.home()"
   ]
  },
  {
   "cell_type": "markdown",
   "id": "7b1b5561-d12f-4740-a05c-7af7ca11ee4b",
   "metadata": {},
   "source": [
    "## Jog"
   ]
  },
  {
   "cell_type": "code",
   "execution_count": null,
   "id": "1a9d509e-88e7-4e6b-b749-307e1167cf8e",
   "metadata": {},
   "outputs": [],
   "source": [
    "head.jog(100)"
   ]
  },
  {
   "cell_type": "markdown",
   "id": "31cef3fe-12e8-4371-a2ff-1478e3b8565c",
   "metadata": {},
   "source": [
    "## Toggle LEDS"
   ]
  },
  {
   "cell_type": "code",
   "execution_count": null,
   "id": "5377f698-c087-4b67-9f46-6a6cbb0c1b9d",
   "metadata": {},
   "outputs": [],
   "source": [
    "head.toggle_led(True)\n",
    "time.sleep(0.5)\n",
    "head.toggle_led(False)\n",
    "time.sleep(0.5)\n",
    "head.toggle_led(True)\n",
    "time.sleep(0.5)\n",
    "head.toggle_led(False)"
   ]
  },
  {
   "cell_type": "markdown",
   "id": "c44c13c9-59a1-4ae2-b987-e43f078f6f17",
   "metadata": {},
   "source": [
    "## Change state to None"
   ]
  },
  {
   "cell_type": "code",
   "execution_count": null,
   "id": "3caefa97-03fc-4ccf-a823-9e25a4b5b0d2",
   "metadata": {},
   "outputs": [],
   "source": [
    "head.stop_all()"
   ]
  },
  {
   "cell_type": "markdown",
   "id": "b75f4a23-2ff4-4c6e-8af3-85779f335ac7",
   "metadata": {},
   "source": [
    "## Send current data"
   ]
  },
  {
   "cell_type": "code",
   "execution_count": null,
   "id": "3872b74e-e19c-46b2-b40c-a7524a6556cf",
   "metadata": {},
   "outputs": [],
   "source": [
    "head.read_single_force_data_point()"
   ]
  },
  {
   "cell_type": "markdown",
   "id": "266de965-da9c-4e14-a3cd-01965f02403d",
   "metadata": {},
   "source": [
    "## Restart"
   ]
  },
  {
   "cell_type": "code",
   "execution_count": null,
   "id": "23c5ea50-aa5f-47e0-9773-c8eb8ceee271",
   "metadata": {},
   "outputs": [],
   "source": [
    "head.restart()"
   ]
  },
  {
   "cell_type": "code",
   "execution_count": null,
   "id": "8e501b4d-6189-4e9b-b5c8-577ea75b7004",
   "metadata": {},
   "outputs": [],
   "source": [
    "head.read_all_input()"
   ]
  },
  {
   "cell_type": "markdown",
   "id": "d7e59bd5-4d67-4545-bc45-916139de10e2",
   "metadata": {},
   "source": [
    "## Start test"
   ]
  },
  {
   "cell_type": "code",
   "execution_count": null,
   "id": "78ff3748-f577-45d1-b3f4-b070f5fad1a6",
   "metadata": {},
   "outputs": [],
   "source": [
    "head.maintain_force(100000)"
   ]
  },
  {
   "cell_type": "code",
   "execution_count": null,
   "id": "0ed65344-7e15-4c2b-b78e-027760402cfe",
   "metadata": {},
   "outputs": [],
   "source": [
    "i = 0\n",
    "points = []\n",
    "head.read_all_input()\n",
    "head.start_streaming_force_data(100)\n",
    "while (i<200):\n",
    "    points.append(head.read_force_data_point_from_stream())\n",
    "    i+=1\n",
    "head.stop_streaming_force_data()\n",
    "\n",
    "centre=0\n",
    "vals = np.sort([p.f_t_mn for p in points])\n",
    "span = np.mean(vals[-50:])-np.mean(vals[:50])\n",
    "plt.plot([p.ms_since_start for p in points], [p.f_n_mn for p in points], label=\"Normal force (mn)\")\n",
    "plt.plot([p.ms_since_start for p in points], [p.f_t_mn for p in points], label=\"Tangential force (mn)\")\n",
    "plt.plot([0,2000], [centre, centre], 'k:')\n",
    "plt.plot([0,2000], [centre-span/2, centre-span/2], 'g-')\n",
    "plt.plot([0,2000], [centre+span/2, centre+span/2], 'g-')\n",
    "plt.legend()"
   ]
  },
  {
   "cell_type": "code",
   "execution_count": null,
   "id": "1120c553-b59a-43b4-9b0f-41192a7333c5",
   "metadata": {},
   "outputs": [],
   "source": [
    "head.stop_all()"
   ]
  },
  {
   "cell_type": "markdown",
   "id": "09996547-b9e8-4911-a172-ec4d858e0fbf",
   "metadata": {},
   "source": [
    "## Zero all forces"
   ]
  },
  {
   "cell_type": "code",
   "execution_count": null,
   "id": "5f45c755-2fa8-4aec-9937-eec6cc0fcf74",
   "metadata": {},
   "outputs": [],
   "source": [
    "head.home()"
   ]
  },
  {
   "cell_type": "code",
   "execution_count": null,
   "id": "01c41969-ffeb-4d5a-a177-670e7d8801c8",
   "metadata": {},
   "outputs": [],
   "source": [
    "head.zero_forces()"
   ]
  },
  {
   "cell_type": "markdown",
   "id": "fb0f02cc-b07c-4bdf-8bd9-1fe3b889f79c",
   "metadata": {},
   "source": [
    "## Incline and roll"
   ]
  },
  {
   "cell_type": "code",
   "execution_count": null,
   "id": "07bd9f68-656d-4d80-be71-5f4172ec73ba",
   "metadata": {},
   "outputs": [],
   "source": [
    "head.read_all_input()\n",
    "head.read_orientation_data()"
   ]
  }
 ],
 "metadata": {
  "kernelspec": {
   "display_name": "Python 3 (ipykernel)",
   "language": "python",
   "name": "python3"
  },
  "language_info": {
   "codemirror_mode": {
    "name": "ipython",
    "version": 3
   },
   "file_extension": ".py",
   "mimetype": "text/x-python",
   "name": "python",
   "nbconvert_exporter": "python",
   "pygments_lexer": "ipython3",
   "version": "3.13.5"
  }
 },
 "nbformat": 4,
 "nbformat_minor": 5
}
