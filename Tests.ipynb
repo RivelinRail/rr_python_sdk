{
 "cells": [
  {
   "cell_type": "code",
   "execution_count": 8,
   "id": "a6669958-0ce5-498a-ba21-2842aeaa0b38",
   "metadata": {},
   "outputs": [],
   "source": [
    "import numpy as np\n",
    "import time\n",
    "from rr_python_sdk import cpp, MeasurementHead, msg_map_to_host"
   ]
  },
  {
   "cell_type": "code",
   "execution_count": 20,
   "id": "071d374f-321a-484f-a000-e6d5d6eb2d0c",
   "metadata": {},
   "outputs": [
    {
     "name": "stdout",
     "output_type": "stream",
     "text": [
      "Handshake acknowledged: <rr_python_sdk.mh_protocol_py.HandshakeToHostPayload object at 0x000002182B1237B0>\n"
     ]
    }
   ],
   "source": [
    "head = MeasurementHead(\"COM6\")"
   ]
  },
  {
   "cell_type": "code",
   "execution_count": 21,
   "id": "e0572785-4112-4fcd-841d-dc50f8a3de4b",
   "metadata": {},
   "outputs": [
    {
     "name": "stdout",
     "output_type": "stream",
     "text": [
      "Handshake acknowledged: <rr_python_sdk.mh_protocol_py.HandshakeToHostPayload object at 0x000002182B14B570>\n"
     ]
    }
   ],
   "source": [
    "head.shakehands()"
   ]
  },
  {
   "cell_type": "code",
   "execution_count": 10,
   "id": "5c2fa478-28de-4b8e-8cef-5f1175a87d7c",
   "metadata": {},
   "outputs": [],
   "source": [
    "head.request_current_force_data()"
   ]
  },
  {
   "cell_type": "code",
   "execution_count": null,
   "id": "1c739d68-0ba9-49c1-8721-0f61e3c15be1",
   "metadata": {},
   "outputs": [],
   "source": [
    "head.zero_forces()"
   ]
  },
  {
   "cell_type": "code",
   "execution_count": null,
   "id": "5ec69e29-2182-4965-8784-0eeb4f02520e",
   "metadata": {},
   "outputs": [],
   "source": [
    "head.enter_load_cell_calibration_mode_normal()"
   ]
  },
  {
   "cell_type": "code",
   "execution_count": null,
   "id": "4c7ed3a6-c418-4eff-b50d-824cb67aa2d9",
   "metadata": {},
   "outputs": [],
   "source": [
    "coeff_n = cpp.LoadCellCalibrationCoef()\n",
    "coeff_n.OFFSET_B = 0b1111101000111111\n",
    "coeff_n.GAIN_B = 0b1001001110110101"
   ]
  },
  {
   "cell_type": "code",
   "execution_count": null,
   "id": "383c28e9-9195-473f-95dd-ed61b96c7570",
   "metadata": {},
   "outputs": [],
   "source": [
    "head.write_calibration_coefficients_normal(coeff_n)"
   ]
  },
  {
   "cell_type": "code",
   "execution_count": null,
   "id": "3d3ec5ce-267d-491d-9e78-5ef5cb75abbf",
   "metadata": {},
   "outputs": [],
   "source": [
    "head.enter_load_cell_calibration_mode_tangential()"
   ]
  },
  {
   "cell_type": "code",
   "execution_count": null,
   "id": "1a4ae777-5c3d-479e-87be-ad336d66f3ba",
   "metadata": {},
   "outputs": [],
   "source": [
    "coeff_t = cpp.LoadCellCalibrationCoef()\n",
    "coeff_t.OFFSET_B = 0b0\n",
    "coeff_t.GAIN_B = 0b1001001110110101 # just half the gain, no offset"
   ]
  },
  {
   "cell_type": "code",
   "execution_count": null,
   "id": "8d8ba21c-b0f2-49cd-9553-2394f0e03900",
   "metadata": {},
   "outputs": [],
   "source": [
    "head.write_calibration_coefficients_tangential(coeff_t)"
   ]
  },
  {
   "cell_type": "code",
   "execution_count": 7,
   "id": "e004cbbc-bc8b-40d3-b47f-9f32c5198705",
   "metadata": {},
   "outputs": [],
   "source": [
    "head.request_angle()"
   ]
  },
  {
   "cell_type": "code",
   "execution_count": 22,
   "id": "16f82d06-9fa2-4c3a-a00e-7cf5d0fc35bb",
   "metadata": {},
   "outputs": [],
   "source": [
    "head.request_acceleration_data()"
   ]
  },
  {
   "cell_type": "code",
   "execution_count": 14,
   "id": "4128556b-2233-483d-8a84-8defc0cfeb42",
   "metadata": {},
   "outputs": [],
   "source": [
    "head.request_orientation()"
   ]
  },
  {
   "cell_type": "code",
   "execution_count": 23,
   "id": "ad08a72e-05d9-429c-8faa-54f64869515c",
   "metadata": {},
   "outputs": [
    {
     "name": "stdout",
     "output_type": "stream",
     "text": [
      "Error error_reason_t.E_ACCELEROMETER_NOT_ENOUGH_MEASUREMENTS\n"
     ]
    }
   ],
   "source": [
    "a = head.read()\n",
    "match a.type:\n",
    "    case cpp.MsgType_ToHost.ERR:\n",
    "        print(f\"Error {a.data.reason}\")\n",
    "    case cpp.MsgType_ToHost.FaultData:\n",
    "        print(f\"Fault {a.data.fault_status:0b}, {int(np.log2(a.data.fault_status))}\")\n",
    "    case cpp.MsgType_ToHost.ACK:\n",
    "        print(f\"Ack {a.data.msg_type}\")\n",
    "    case cpp.MsgType_ToHost.NoMessage:\n",
    "        print(\"No message\")\n",
    "    case cpp.MsgType_ToHost.CurrentData:\n",
    "        print(f\"Force data: N {a.data.f_normal_mn}mN, T {a.data.f_tangential_mn}mN\")\n",
    "    case cpp.MsgType_ToHost.OrientationData:\n",
    "        print(f\"Orientation data: incline: {a.data.incline}, roll: {a.data.roll}\")\n",
    "    case _:\n",
    "        print(a.data)"
   ]
  },
  {
   "cell_type": "code",
   "execution_count": null,
   "id": "a4b0e4be-7b60-484c-a0fb-4a83ab884a1b",
   "metadata": {},
   "outputs": [],
   "source": [
    "print(f\"Force data: N {a.data.f_normal_mn}mN, T {a.data.f_tangential_mn}mN\")"
   ]
  },
  {
   "cell_type": "code",
   "execution_count": null,
   "id": "dd095919-1645-4f6e-8134-7e32422e43ea",
   "metadata": {},
   "outputs": [],
   "source": [
    "head.reset_to_defaults()"
   ]
  },
  {
   "cell_type": "code",
   "execution_count": null,
   "id": "68f9fd83-c68b-4183-a620-6716b2e30070",
   "metadata": {},
   "outputs": [],
   "source": [
    "head.exit_load_cell_calibration_mode_normal()"
   ]
  },
  {
   "cell_type": "code",
   "execution_count": 17,
   "id": "23709e29-274b-45c4-b8d2-b18efc450871",
   "metadata": {},
   "outputs": [],
   "source": [
    "head.restart()"
   ]
  },
  {
   "cell_type": "code",
   "execution_count": null,
   "id": "951a9bf8-9504-4379-a47b-7e0bc33ba40a",
   "metadata": {},
   "outputs": [],
   "source": [
    "f\"{0b100100111011010:0X}\""
   ]
  },
  {
   "cell_type": "code",
   "execution_count": 7,
   "id": "eebbb7e3-4650-4bab-9592-51a05e89198f",
   "metadata": {},
   "outputs": [
    {
     "ename": "SerialException",
     "evalue": "WriteFile failed (PermissionError(13, 'Access is denied.', None, 5))",
     "output_type": "error",
     "traceback": [
      "\u001b[31m---------------------------------------------------------------------------\u001b[39m",
      "\u001b[31mSerialException\u001b[39m                           Traceback (most recent call last)",
      "\u001b[36mCell\u001b[39m\u001b[36m \u001b[39m\u001b[32mIn[7]\u001b[39m\u001b[32m, line 2\u001b[39m\n\u001b[32m      1\u001b[39m \u001b[38;5;28;01mwhile\u001b[39;00m (\u001b[38;5;28;01mTrue\u001b[39;00m):\n\u001b[32m----> \u001b[39m\u001b[32m2\u001b[39m     \u001b[43mhead\u001b[49m\u001b[43m.\u001b[49m\u001b[43mser\u001b[49m\u001b[43m.\u001b[49m\u001b[43mwrite\u001b[49m\u001b[43m(\u001b[49m\u001b[38;5;28;43mbytes\u001b[39;49m\u001b[43m(\u001b[49m\u001b[43m[\u001b[49m\u001b[32;43m0xAA\u001b[39;49m\u001b[43m,\u001b[49m\u001b[32;43m0xAA\u001b[39;49m\u001b[43m,\u001b[49m\u001b[32;43m0x00\u001b[39;49m\u001b[43m,\u001b[49m\u001b[32;43m0x11\u001b[39;49m\u001b[43m,\u001b[49m\u001b[32;43m0x22\u001b[39;49m\u001b[43m]\u001b[49m\u001b[43m)\u001b[49m\u001b[43m)\u001b[49m\n\u001b[32m      3\u001b[39m     time.sleep(\u001b[32m0.1\u001b[39m)\n",
      "\u001b[36mFile \u001b[39m\u001b[32m~\\anaconda3\\envs\\meas_head\\Lib\\site-packages\\serial\\serialwin32.py:317\u001b[39m, in \u001b[36mSerial.write\u001b[39m\u001b[34m(self, data)\u001b[39m\n\u001b[32m    315\u001b[39m \u001b[38;5;28;01mif\u001b[39;00m \u001b[38;5;28mself\u001b[39m._write_timeout != \u001b[32m0\u001b[39m:  \u001b[38;5;66;03m# if blocking (None) or w/ write timeout (>0)\u001b[39;00m\n\u001b[32m    316\u001b[39m     \u001b[38;5;28;01mif\u001b[39;00m \u001b[38;5;129;01mnot\u001b[39;00m success \u001b[38;5;129;01mand\u001b[39;00m win32.GetLastError() \u001b[38;5;129;01mnot\u001b[39;00m \u001b[38;5;129;01min\u001b[39;00m (win32.ERROR_SUCCESS, win32.ERROR_IO_PENDING):\n\u001b[32m--> \u001b[39m\u001b[32m317\u001b[39m         \u001b[38;5;28;01mraise\u001b[39;00m SerialException(\u001b[33m\"\u001b[39m\u001b[33mWriteFile failed (\u001b[39m\u001b[38;5;132;01m{!r}\u001b[39;00m\u001b[33m)\u001b[39m\u001b[33m\"\u001b[39m.format(ctypes.WinError()))\n\u001b[32m    319\u001b[39m     \u001b[38;5;66;03m# Wait for the write to complete.\u001b[39;00m\n\u001b[32m    320\u001b[39m     \u001b[38;5;66;03m#~ win32.WaitForSingleObject(self._overlapped_write.hEvent, win32.INFINITE)\u001b[39;00m\n\u001b[32m    321\u001b[39m     win32.GetOverlappedResult(\u001b[38;5;28mself\u001b[39m._port_handle, \u001b[38;5;28mself\u001b[39m._overlapped_write, ctypes.byref(n), \u001b[38;5;28;01mTrue\u001b[39;00m)\n",
      "\u001b[31mSerialException\u001b[39m: WriteFile failed (PermissionError(13, 'Access is denied.', None, 5))"
     ]
    }
   ],
   "source": [
    "while (True):\n",
    "    head.ser.write(bytes([0xAA,0xAA,0x00,0x11,0x22]))\n",
    "    time.sleep(0.1)"
   ]
  },
  {
   "cell_type": "code",
   "execution_count": null,
   "id": "7eb66639-0152-4d02-8cfa-fce2cee95c79",
   "metadata": {},
   "outputs": [],
   "source": [
    "status = 400\n",
    "match status:\n",
    "    case 400:\n",
    "        print(\"Bad request\")\n",
    "    case 404:\n",
    "        print (\"Not found\")"
   ]
  },
  {
   "cell_type": "code",
   "execution_count": null,
   "id": "682debd1-6679-423d-9e00-b2a83da2e78b",
   "metadata": {},
   "outputs": [],
   "source": [
    "head.request_acceleration_data()"
   ]
  },
  {
   "cell_type": "code",
   "execution_count": null,
   "id": "d58d1d60-16bb-4691-8ee8-3b2b52823749",
   "metadata": {},
   "outputs": [],
   "source": [
    "a = head.read()\n",
    "print(a.data.x, a.data.y, a.data.z)"
   ]
  },
  {
   "cell_type": "code",
   "execution_count": null,
   "id": "337e9404-a565-4a78-a716-c1d312ecce8e",
   "metadata": {},
   "outputs": [],
   "source": [
    "head.restart()"
   ]
  },
  {
   "cell_type": "code",
   "execution_count": null,
   "id": "8e24cbbc-2371-490a-8534-09bf89343a7b",
   "metadata": {},
   "outputs": [],
   "source": [
    "a.data.fault_status"
   ]
  },
  {
   "cell_type": "code",
   "execution_count": null,
   "id": "f7c2b5ee-cd92-4339-a448-3095f25ffdea",
   "metadata": {},
   "outputs": [],
   "source": [
    "a = cpp.FaultStatusPayload()"
   ]
  },
  {
   "cell_type": "code",
   "execution_count": null,
   "id": "33c7b786-6bfd-446c-bd50-dba7def02f52",
   "metadata": {},
   "outputs": [],
   "source": [
    "f\"{0x1f:b}\""
   ]
  },
  {
   "cell_type": "code",
   "execution_count": null,
   "id": "f9f67f13-8e2f-4074-a321-9f95321a3fa6",
   "metadata": {},
   "outputs": [],
   "source": [
    "0x6081"
   ]
  },
  {
   "cell_type": "code",
   "execution_count": null,
   "id": "5eedb22d-e178-4d98-8107-04ba8526737c",
   "metadata": {},
   "outputs": [],
   "source": [
    "a = cpp.HandshakeToDevicePayload()"
   ]
  },
  {
   "cell_type": "code",
   "execution_count": null,
   "id": "00b74066-ba61-4a9d-b8b2-6d521a463628",
   "metadata": {},
   "outputs": [],
   "source": [
    "import rr_python_sdk as a"
   ]
  },
  {
   "cell_type": "code",
   "execution_count": null,
   "id": "b8cd1b88-9058-4067-8c47-549b5b3195d6",
   "metadata": {},
   "outputs": [],
   "source": [
    "a.msg_map_to_host"
   ]
  },
  {
   "cell_type": "code",
   "execution_count": null,
   "id": "76f315e7-b093-405f-9dbc-3066f6161406",
   "metadata": {},
   "outputs": [],
   "source": []
  },
  {
   "cell_type": "code",
   "execution_count": null,
   "id": "fbe82530-41fc-4988-82dd-6a66aede46a6",
   "metadata": {},
   "outputs": [],
   "source": []
  },
  {
   "cell_type": "code",
   "execution_count": null,
   "id": "7a0da883-3dd3-4735-8c94-9b23afa505bb",
   "metadata": {},
   "outputs": [],
   "source": [
    "head.read()"
   ]
  },
  {
   "cell_type": "code",
   "execution_count": null,
   "id": "8fdd1862-288c-4c6c-b8c9-7a2aea106ffe",
   "metadata": {},
   "outputs": [],
   "source": [
    "payload = cpp.JogPayload()\n",
    "payload.distance_mm = 1\n",
    "head.jog_motor(payload)"
   ]
  },
  {
   "cell_type": "code",
   "execution_count": null,
   "id": "0368673c-e822-41e0-91c0-77c49ab847f4",
   "metadata": {},
   "outputs": [],
   "source": [
    "payload = cpp.AccelerationData()\n",
    "payload.x = 1"
   ]
  },
  {
   "cell_type": "code",
   "execution_count": null,
   "id": "32a42707-d56b-450b-8eb0-caa2c2cada1c",
   "metadata": {},
   "outputs": [],
   "source": [
    "payload = cpp.HandshakeToDevicePayload()\n"
   ]
  },
  {
   "cell_type": "code",
   "execution_count": null,
   "id": "7cd097e2-203c-448e-bffd-1af59977983e",
   "metadata": {},
   "outputs": [],
   "source": [
    "locals()['hs']"
   ]
  },
  {
   "cell_type": "code",
   "execution_count": null,
   "id": "9525382e-f196-4393-a497-0bcd1f33e3ee",
   "metadata": {},
   "outputs": [],
   "source": []
  },
  {
   "cell_type": "code",
   "execution_count": null,
   "id": "5d1720b3-b99e-45e3-b802-53a9f03bba28",
   "metadata": {},
   "outputs": [],
   "source": [
    "my_head = head.MeasurementHead(\"COM5\")"
   ]
  },
  {
   "cell_type": "code",
   "execution_count": null,
   "id": "7d7e7c32-96c7-46c1-b5f4-772d7e81b937",
   "metadata": {},
   "outputs": [],
   "source": [
    "my_head.ack()"
   ]
  },
  {
   "cell_type": "code",
   "execution_count": null,
   "id": "fca9506e-e62e-4abd-9cf8-65ea04506ec3",
   "metadata": {},
   "outputs": [],
   "source": [
    "head.read()"
   ]
  },
  {
   "cell_type": "code",
   "execution_count": null,
   "id": "116be139-77c7-4b94-be84-f070513dd301",
   "metadata": {},
   "outputs": [],
   "source": [
    "head.cpp.AccelerationData()"
   ]
  },
  {
   "cell_type": "code",
   "execution_count": null,
   "id": "7d221b60-a043-4b2d-bdbe-ce9ce620b18c",
   "metadata": {},
   "outputs": [],
   "source": [
    "head.cpp.MsgType_ToHost."
   ]
  },
  {
   "cell_type": "code",
   "execution_count": null,
   "id": "9c1e1d35-6580-4779-a214-1e47843ac421",
   "metadata": {},
   "outputs": [],
   "source": [
    "# --- Force Data Point ---\n",
    "force = cpp.ForceDataPoint()  # corresponds to force_data_point_t\n",
    "force.device_status = 2\n",
    "force.f_normal_mn = 123456\n",
    "force.f_tangential_mn = -654321\n",
    "force.millis_since_start = 500\n",
    "\n",
    "# Serialize to bytes\n",
    "# We'll use memoryview/bytearray approach\n",
    "force_bytes = force.serialize()\n",
    "\n",
    "# Prepend tag for ESP (0x00)\n",
    "frame = bytes([0x00]) + force_bytes\n",
    "ser.write(frame)\n",
    "print(\"Sent force_data_point_t: 0x\" + ' 0x'.join(f'{x:02X}' for x in frame)[0:])"
   ]
  },
  {
   "cell_type": "code",
   "execution_count": null,
   "id": "bb949292-716b-4733-87c7-75edbc041302",
   "metadata": {},
   "outputs": [],
   "source": [
    "# AccelerationData\n",
    "accel = cpp.AccelerationData()\n",
    "accel.x = 1.1\n",
    "accel.y = 2.2\n",
    "accel.z = 3.3\n",
    "accel.t = 4.4\n",
    "\n",
    "accel_bytes = accel.serialize()\n",
    "ser.write(bytes([0x01]) + accel_bytes)\n",
    "print(\"Sent acceleration_data_t:\", accel_bytes)"
   ]
  },
  {
   "cell_type": "code",
   "execution_count": null,
   "id": "4a72854c-9b85-459d-bedc-54b420e631a2",
   "metadata": {},
   "outputs": [],
   "source": [
    "payload = b\"Hello ESP32!\\r\\n\"\n",
    "\n",
    "print(f\"Sending {len(payload)} bytes: {payload}\")\n",
    "ser.write(payload)\n",
    "\n",
    "# Read back the same number of bytes\n",
    "rx = ser.read(len(payload))\n",
    "print(f\"Received {len(rx)} bytes: {rx}\")\n",
    "\n",
    "# Compare\n",
    "if rx == payload:\n",
    "    print(\"✅ Echo OK\")\n",
    "else:\n",
    "    print(\"❌ Mismatch!\")\n",
    "    print(\"Sent :\", binascii.hexlify(payload))\n",
    "    print(\"Recv :\", binascii.hexlify(rx))"
   ]
  },
  {
   "cell_type": "code",
   "execution_count": null,
   "id": "1b36a663-a020-4bf7-be02-691514100787",
   "metadata": {},
   "outputs": [],
   "source": []
  },
  {
   "cell_type": "code",
   "execution_count": null,
   "id": "147fc6df-ec94-4801-8951-c78a998af536",
   "metadata": {},
   "outputs": [],
   "source": []
  },
  {
   "cell_type": "code",
   "execution_count": null,
   "id": "9ff32492-e0b8-469f-a654-c3008336652b",
   "metadata": {},
   "outputs": [],
   "source": []
  },
  {
   "cell_type": "code",
   "execution_count": null,
   "id": "be4fa0b2-30bd-4033-bc17-4f310c7ae1be",
   "metadata": {},
   "outputs": [],
   "source": [
    "ser.close()"
   ]
  },
  {
   "cell_type": "code",
   "execution_count": null,
   "id": "8dbb1aee-ef1c-4788-8e51-d448d2b4deb4",
   "metadata": {},
   "outputs": [],
   "source": []
  },
  {
   "cell_type": "code",
   "execution_count": null,
   "id": "3e519db0-698c-4f65-b4f8-6827fe268e26",
   "metadata": {},
   "outputs": [],
   "source": [
    "head = sdk.MeasurmentHead(port = \"COM11\")\n",
    "head.read_all_input()"
   ]
  },
  {
   "cell_type": "markdown",
   "id": "2c72c061-7ed8-4cc1-9a96-80bf7c9495c1",
   "metadata": {},
   "source": [
    "# Test all functions\n",
    " (In order they are in the microcontroller code)"
   ]
  },
  {
   "cell_type": "markdown",
   "id": "4d58b538-2516-4967-9541-1de58185d347",
   "metadata": {},
   "source": [
    "## Angle setting"
   ]
  },
  {
   "cell_type": "code",
   "execution_count": null,
   "id": "8492bf17-6d35-4aa7-a09a-8f8b85ce23d4",
   "metadata": {},
   "outputs": [],
   "source": [
    "head.set_angle(10)"
   ]
  },
  {
   "cell_type": "markdown",
   "id": "75209a5e-bd1b-484b-ae4e-93a9480ae081",
   "metadata": {},
   "source": [
    "## Echo input"
   ]
  },
  {
   "cell_type": "code",
   "execution_count": null,
   "id": "f9b2bcc5-6b0d-4862-86aa-2453f933cad1",
   "metadata": {},
   "outputs": [],
   "source": [
    "head.echo(b\"Hello\")"
   ]
  },
  {
   "cell_type": "markdown",
   "id": "1d8b0321-7a4b-4d87-8bb8-e272dd15e290",
   "metadata": {},
   "source": [
    "## Read and write config data\n",
    "Note, the default config will be reloaded when the device restarts"
   ]
  },
  {
   "cell_type": "code",
   "execution_count": null,
   "id": "37b0ebf7-08f9-4d42-a570-84daa207353f",
   "metadata": {},
   "outputs": [],
   "source": [
    "config = head.read_config_data()\n",
    "config.microsteps_per_step"
   ]
  },
  {
   "cell_type": "code",
   "execution_count": null,
   "id": "2739cf09-f8be-44f0-9a84-188e2a983901",
   "metadata": {},
   "outputs": [],
   "source": [
    "config.t_force_scale"
   ]
  },
  {
   "cell_type": "code",
   "execution_count": null,
   "id": "3c8a04ad-6371-433d-8a97-ed28c56b0e9e",
   "metadata": {},
   "outputs": [],
   "source": [
    "config.microsteps_per_step = 8"
   ]
  },
  {
   "cell_type": "code",
   "execution_count": null,
   "id": "36d89dea-1efc-4a52-8491-4488b637c4d1",
   "metadata": {},
   "outputs": [],
   "source": [
    "head.update_config_data(config)"
   ]
  },
  {
   "cell_type": "code",
   "execution_count": null,
   "id": "ab928f55-a3ea-4af4-aeaf-e4ef337dfa6f",
   "metadata": {},
   "outputs": [],
   "source": [
    "config = head.read_config_data()"
   ]
  },
  {
   "cell_type": "code",
   "execution_count": null,
   "id": "fc64205e-d6e0-42d5-8130-bf48d5ea234f",
   "metadata": {},
   "outputs": [],
   "source": [
    "config.microsteps_per_step"
   ]
  },
  {
   "cell_type": "markdown",
   "id": "98dbf38b-2ea5-4612-9844-3dc7809968ae",
   "metadata": {},
   "source": [
    "## Data streaming"
   ]
  },
  {
   "cell_type": "code",
   "execution_count": null,
   "id": "660ee366-2483-44cb-92fc-11ebdf1b1923",
   "metadata": {},
   "outputs": [],
   "source": [
    "i = 0\n",
    "points = []\n",
    "head.read_all_input()\n",
    "head.start_streaming_force_data(100)\n",
    "while (i<200):\n",
    "    points.append(head.read_force_data_point_from_stream())\n",
    "    i+=1\n",
    "head.stop_streaming_force_data()\n",
    "#plt.plot([p.ms_since_start for p in points], [p.f_t_mn/p.f_n_mn for p in points], label=\"mu\")\n",
    "plt.plot([p.ms_since_start for p in points], [p.f_n_mn for p in points], label=\"Normal force (mn)\")\n",
    "plt.plot([p.ms_since_start for p in points], [p.f_t_mn for p in points], label=\"Tangential force (mn)\")\n",
    "plt.legend()"
   ]
  },
  {
   "cell_type": "code",
   "execution_count": null,
   "id": "b64269e9-3d65-4182-b62b-870f1bc954b0",
   "metadata": {},
   "outputs": [],
   "source": [
    "head.stop_streaming_force_data()\n",
    "head.read_all_input()"
   ]
  },
  {
   "cell_type": "markdown",
   "id": "2aa905af-bf37-4af7-ab49-32f416c54e06",
   "metadata": {},
   "source": [
    "## Show and reset error data"
   ]
  },
  {
   "cell_type": "code",
   "execution_count": null,
   "id": "a1d9f20e-a104-402e-aaa9-599b83aaae35",
   "metadata": {},
   "outputs": [],
   "source": [
    "f\"{head.read_error_status():016b}\""
   ]
  },
  {
   "cell_type": "code",
   "execution_count": null,
   "id": "4f7e9543-51e6-421d-874f-8eb464d0dccf",
   "metadata": {},
   "outputs": [],
   "source": [
    "head.clear_error_status()"
   ]
  },
  {
   "cell_type": "markdown",
   "id": "2ddcde89-35a3-4b38-a353-7f30695f6c90",
   "metadata": {},
   "source": [
    "## Setting target force"
   ]
  },
  {
   "cell_type": "code",
   "execution_count": null,
   "id": "7a5cad10-805d-4e06-ae59-41405e70f224",
   "metadata": {},
   "outputs": [],
   "source": [
    "head.set_target_force(100000)"
   ]
  },
  {
   "cell_type": "markdown",
   "id": "5d9c1938-f534-42c8-95cc-26296b22244a",
   "metadata": {},
   "source": [
    "## Home"
   ]
  },
  {
   "cell_type": "code",
   "execution_count": null,
   "id": "959b1fac-2339-4fd6-a6b7-82a036761eb1",
   "metadata": {},
   "outputs": [],
   "source": [
    "head.home()"
   ]
  },
  {
   "cell_type": "markdown",
   "id": "7b1b5561-d12f-4740-a05c-7af7ca11ee4b",
   "metadata": {},
   "source": [
    "## Jog"
   ]
  },
  {
   "cell_type": "code",
   "execution_count": null,
   "id": "1a9d509e-88e7-4e6b-b749-307e1167cf8e",
   "metadata": {},
   "outputs": [],
   "source": [
    "head.jog(100)"
   ]
  },
  {
   "cell_type": "markdown",
   "id": "31cef3fe-12e8-4371-a2ff-1478e3b8565c",
   "metadata": {},
   "source": [
    "## Toggle LEDS"
   ]
  },
  {
   "cell_type": "code",
   "execution_count": null,
   "id": "5377f698-c087-4b67-9f46-6a6cbb0c1b9d",
   "metadata": {},
   "outputs": [],
   "source": [
    "head.toggle_led(True)\n",
    "time.sleep(0.5)\n",
    "head.toggle_led(False)\n",
    "time.sleep(0.5)\n",
    "head.toggle_led(True)\n",
    "time.sleep(0.5)\n",
    "head.toggle_led(False)"
   ]
  },
  {
   "cell_type": "markdown",
   "id": "c44c13c9-59a1-4ae2-b987-e43f078f6f17",
   "metadata": {},
   "source": [
    "## Change state to None"
   ]
  },
  {
   "cell_type": "code",
   "execution_count": null,
   "id": "3caefa97-03fc-4ccf-a823-9e25a4b5b0d2",
   "metadata": {},
   "outputs": [],
   "source": [
    "head.stop_all()"
   ]
  },
  {
   "cell_type": "markdown",
   "id": "b75f4a23-2ff4-4c6e-8af3-85779f335ac7",
   "metadata": {},
   "source": [
    "## Send current data"
   ]
  },
  {
   "cell_type": "code",
   "execution_count": null,
   "id": "3872b74e-e19c-46b2-b40c-a7524a6556cf",
   "metadata": {},
   "outputs": [],
   "source": [
    "head.read_single_force_data_point()"
   ]
  },
  {
   "cell_type": "markdown",
   "id": "266de965-da9c-4e14-a3cd-01965f02403d",
   "metadata": {},
   "source": [
    "## Restart"
   ]
  },
  {
   "cell_type": "code",
   "execution_count": null,
   "id": "23c5ea50-aa5f-47e0-9773-c8eb8ceee271",
   "metadata": {},
   "outputs": [],
   "source": [
    "head.restart()"
   ]
  },
  {
   "cell_type": "code",
   "execution_count": null,
   "id": "8e501b4d-6189-4e9b-b5c8-577ea75b7004",
   "metadata": {},
   "outputs": [],
   "source": [
    "head.read_all_input()"
   ]
  },
  {
   "cell_type": "markdown",
   "id": "d7e59bd5-4d67-4545-bc45-916139de10e2",
   "metadata": {},
   "source": [
    "## Start test"
   ]
  },
  {
   "cell_type": "code",
   "execution_count": null,
   "id": "78ff3748-f577-45d1-b3f4-b070f5fad1a6",
   "metadata": {},
   "outputs": [],
   "source": [
    "head.maintain_force(100000)"
   ]
  },
  {
   "cell_type": "code",
   "execution_count": null,
   "id": "0ed65344-7e15-4c2b-b78e-027760402cfe",
   "metadata": {},
   "outputs": [],
   "source": [
    "i = 0\n",
    "points = []\n",
    "head.read_all_input()\n",
    "head.start_streaming_force_data(100)\n",
    "while (i<200):\n",
    "    points.append(head.read_force_data_point_from_stream())\n",
    "    i+=1\n",
    "head.stop_streaming_force_data()\n",
    "\n",
    "centre=0\n",
    "vals = np.sort([p.f_t_mn for p in points])\n",
    "span = np.mean(vals[-50:])-np.mean(vals[:50])\n",
    "plt.plot([p.ms_since_start for p in points], [p.f_n_mn for p in points], label=\"Normal force (mn)\")\n",
    "plt.plot([p.ms_since_start for p in points], [p.f_t_mn for p in points], label=\"Tangential force (mn)\")\n",
    "plt.plot([0,2000], [centre, centre], 'k:')\n",
    "plt.plot([0,2000], [centre-span/2, centre-span/2], 'g-')\n",
    "plt.plot([0,2000], [centre+span/2, centre+span/2], 'g-')\n",
    "plt.legend()"
   ]
  },
  {
   "cell_type": "code",
   "execution_count": null,
   "id": "1120c553-b59a-43b4-9b0f-41192a7333c5",
   "metadata": {},
   "outputs": [],
   "source": [
    "head.stop_all()"
   ]
  },
  {
   "cell_type": "markdown",
   "id": "09996547-b9e8-4911-a172-ec4d858e0fbf",
   "metadata": {},
   "source": [
    "## Zero all forces"
   ]
  },
  {
   "cell_type": "code",
   "execution_count": null,
   "id": "5f45c755-2fa8-4aec-9937-eec6cc0fcf74",
   "metadata": {},
   "outputs": [],
   "source": [
    "head.home()"
   ]
  },
  {
   "cell_type": "code",
   "execution_count": null,
   "id": "01c41969-ffeb-4d5a-a177-670e7d8801c8",
   "metadata": {},
   "outputs": [],
   "source": [
    "head.zero_forces()"
   ]
  },
  {
   "cell_type": "markdown",
   "id": "fb0f02cc-b07c-4bdf-8bd9-1fe3b889f79c",
   "metadata": {},
   "source": [
    "## Incline and roll"
   ]
  },
  {
   "cell_type": "code",
   "execution_count": null,
   "id": "07bd9f68-656d-4d80-be71-5f4172ec73ba",
   "metadata": {},
   "outputs": [],
   "source": [
    "head.read_all_input()\n",
    "head.read_orientation_data()"
   ]
  }
 ],
 "metadata": {
  "kernelspec": {
   "display_name": "Python 3 (ipykernel)",
   "language": "python",
   "name": "python3"
  },
  "language_info": {
   "codemirror_mode": {
    "name": "ipython",
    "version": 3
   },
   "file_extension": ".py",
   "mimetype": "text/x-python",
   "name": "python",
   "nbconvert_exporter": "python",
   "pygments_lexer": "ipython3",
   "version": "3.13.5"
  }
 },
 "nbformat": 4,
 "nbformat_minor": 5
}
