{
 "cells": [
  {
   "cell_type": "code",
   "execution_count": 2,
   "id": "a6669958-0ce5-498a-ba21-2842aeaa0b38",
   "metadata": {},
   "outputs": [],
   "source": [
    "from rr_python_sdk import cpp, MeasurementHead"
   ]
  },
  {
   "cell_type": "code",
   "execution_count": 3,
   "id": "071d374f-321a-484f-a000-e6d5d6eb2d0c",
   "metadata": {},
   "outputs": [],
   "source": [
    "head = MeasurementHead(\"COM5\")"
   ]
  },
  {
   "cell_type": "code",
   "execution_count": 5,
   "id": "7eb66639-0152-4d02-8cfa-fce2cee95c79",
   "metadata": {},
   "outputs": [],
   "source": [
    "head.home"
   ]
  },
  {
   "cell_type": "code",
   "execution_count": 6,
   "id": "8fdd1862-288c-4c6c-b8c9-7a2aea106ffe",
   "metadata": {},
   "outputs": [],
   "source": [
    "payload = cpp.JogPayload\n",
    "payload.distance_mm = 1.0\n",
    "head.jog_motor(payload)"
   ]
  },
  {
   "cell_type": "code",
   "execution_count": 7,
   "id": "0368673c-e822-41e0-91c0-77c49ab847f4",
   "metadata": {},
   "outputs": [
    {
     "ename": "ValueError",
     "evalue": "zero_forces can only be called with an argument of type EmptyPayload",
     "output_type": "error",
     "traceback": [
      "\u001b[31m---------------------------------------------------------------------------\u001b[39m",
      "\u001b[31mValueError\u001b[39m                                Traceback (most recent call last)",
      "\u001b[36mCell\u001b[39m\u001b[36m \u001b[39m\u001b[32mIn[7]\u001b[39m\u001b[32m, line 1\u001b[39m\n\u001b[32m----> \u001b[39m\u001b[32m1\u001b[39m \u001b[43mhead\u001b[49m\u001b[43m.\u001b[49m\u001b[43mjog_motor\u001b[49m\u001b[43m(\u001b[49m\u001b[43mpayload\u001b[49m\u001b[43m)\u001b[49m\n",
      "\u001b[36mFile \u001b[39m\u001b[32m~\\Documents\\GitHub\\RR_measurment_head_python\\rr_python_sdk\\__init__.py:77\u001b[39m, in \u001b[36mattach_send_methods.<locals>.send_method\u001b[39m\u001b[34m(self, payload, enum_name)\u001b[39m\n\u001b[32m     75\u001b[39m \u001b[38;5;28;01mdef\u001b[39;00m\u001b[38;5;250m \u001b[39m\u001b[34msend_method\u001b[39m(\u001b[38;5;28mself\u001b[39m, payload, enum_name = enum_name):\n\u001b[32m     76\u001b[39m     \u001b[38;5;28;01mif\u001b[39;00m \u001b[38;5;129;01mnot\u001b[39;00m \u001b[38;5;28misinstance\u001b[39m(payload, \u001b[38;5;28mgetattr\u001b[39m(cpp, py_struct_name)):\n\u001b[32m---> \u001b[39m\u001b[32m77\u001b[39m         \u001b[38;5;28;01mraise\u001b[39;00m \u001b[38;5;167;01mValueError\u001b[39;00m(\u001b[33mf\u001b[39m\u001b[33m\"\u001b[39m\u001b[38;5;132;01m{\u001b[39;00mmethod_name\u001b[38;5;132;01m}\u001b[39;00m\u001b[33m can only be called with an argument of type \u001b[39m\u001b[38;5;132;01m{\u001b[39;00mpy_struct_name\u001b[38;5;132;01m}\u001b[39;00m\u001b[33m\"\u001b[39m)\n\u001b[32m     79\u001b[39m     msg_enum = \u001b[38;5;28mgetattr\u001b[39m(cpp, enum_name)\n\u001b[32m     80\u001b[39m     frame = \u001b[38;5;28mbytes\u001b[39m([cpp.SYNC_BYTE]*cpp.N_FRAMING_START_BYTES + [msg_enum]) + payload.serialize()\n",
      "\u001b[31mValueError\u001b[39m: zero_forces can only be called with an argument of type EmptyPayload"
     ]
    }
   ],
   "source": []
  },
  {
   "cell_type": "code",
   "execution_count": 10,
   "id": "7cd097e2-203c-448e-bffd-1af59977983e",
   "metadata": {},
   "outputs": [
    {
     "data": {
      "text/plain": [
       "<rr_python_sdk.mh_protocol_py.HandshakeToDevicePayload at 0x17eeba869b0>"
      ]
     },
     "execution_count": 10,
     "metadata": {},
     "output_type": "execute_result"
    }
   ],
   "source": [
    "locals()['hs']"
   ]
  },
  {
   "cell_type": "code",
   "execution_count": null,
   "id": "9525382e-f196-4393-a497-0bcd1f33e3ee",
   "metadata": {},
   "outputs": [],
   "source": []
  },
  {
   "cell_type": "code",
   "execution_count": 11,
   "id": "5d1720b3-b99e-45e3-b802-53a9f03bba28",
   "metadata": {},
   "outputs": [
    {
     "ename": "SerialException",
     "evalue": "could not open port 'COM5': PermissionError(13, 'Access is denied.', None, 5)",
     "output_type": "error",
     "traceback": [
      "\u001b[31m---------------------------------------------------------------------------\u001b[39m",
      "\u001b[31mSerialException\u001b[39m                           Traceback (most recent call last)",
      "\u001b[36mCell\u001b[39m\u001b[36m \u001b[39m\u001b[32mIn[11]\u001b[39m\u001b[32m, line 1\u001b[39m\n\u001b[32m----> \u001b[39m\u001b[32m1\u001b[39m my_head = \u001b[43mhead\u001b[49m\u001b[43m.\u001b[49m\u001b[43mMeasurementHead\u001b[49m\u001b[43m(\u001b[49m\u001b[33;43m\"\u001b[39;49m\u001b[33;43mCOM5\u001b[39;49m\u001b[33;43m\"\u001b[39;49m\u001b[43m)\u001b[49m\n",
      "\u001b[36mFile \u001b[39m\u001b[32m~\\Documents\\GitHub\\RR_measurment_head_python\\rr_python_sdk\\wrapper.py:10\u001b[39m, in \u001b[36mMeasurementHead.__init__\u001b[39m\u001b[34m(self, port, baudrate)\u001b[39m\n\u001b[32m      9\u001b[39m \u001b[38;5;28;01mdef\u001b[39;00m\u001b[38;5;250m \u001b[39m\u001b[34m__init__\u001b[39m(\u001b[38;5;28mself\u001b[39m, port: \u001b[38;5;28mstr\u001b[39m, baudrate: \u001b[38;5;28mint\u001b[39m = \u001b[32m1_000_000\u001b[39m):\n\u001b[32m---> \u001b[39m\u001b[32m10\u001b[39m     \u001b[38;5;28mself\u001b[39m.ser = \u001b[43mserial\u001b[49m\u001b[43m.\u001b[49m\u001b[43mSerial\u001b[49m\u001b[43m(\u001b[49m\u001b[43mport\u001b[49m\u001b[43m,\u001b[49m\u001b[43m \u001b[49m\u001b[43mbaudrate\u001b[49m\u001b[43m=\u001b[49m\u001b[43mbaudrate\u001b[49m\u001b[43m,\u001b[49m\u001b[43m \u001b[49m\u001b[43mtimeout\u001b[49m\u001b[43m=\u001b[49m\u001b[32;43m1\u001b[39;49m\u001b[43m)\u001b[49m\n",
      "\u001b[36mFile \u001b[39m\u001b[32m~\\anaconda3\\envs\\meas_head\\Lib\\site-packages\\serial\\serialwin32.py:33\u001b[39m, in \u001b[36mSerial.__init__\u001b[39m\u001b[34m(self, *args, **kwargs)\u001b[39m\n\u001b[32m     31\u001b[39m \u001b[38;5;28mself\u001b[39m._overlapped_read = \u001b[38;5;28;01mNone\u001b[39;00m\n\u001b[32m     32\u001b[39m \u001b[38;5;28mself\u001b[39m._overlapped_write = \u001b[38;5;28;01mNone\u001b[39;00m\n\u001b[32m---> \u001b[39m\u001b[32m33\u001b[39m \u001b[38;5;28;43msuper\u001b[39;49m\u001b[43m(\u001b[49m\u001b[43mSerial\u001b[49m\u001b[43m,\u001b[49m\u001b[43m \u001b[49m\u001b[38;5;28;43mself\u001b[39;49m\u001b[43m)\u001b[49m\u001b[43m.\u001b[49m\u001b[34;43m__init__\u001b[39;49m\u001b[43m(\u001b[49m\u001b[43m*\u001b[49m\u001b[43margs\u001b[49m\u001b[43m,\u001b[49m\u001b[43m \u001b[49m\u001b[43m*\u001b[49m\u001b[43m*\u001b[49m\u001b[43mkwargs\u001b[49m\u001b[43m)\u001b[49m\n",
      "\u001b[36mFile \u001b[39m\u001b[32m~\\anaconda3\\envs\\meas_head\\Lib\\site-packages\\serial\\serialutil.py:244\u001b[39m, in \u001b[36mSerialBase.__init__\u001b[39m\u001b[34m(self, port, baudrate, bytesize, parity, stopbits, timeout, xonxoff, rtscts, write_timeout, dsrdtr, inter_byte_timeout, exclusive, **kwargs)\u001b[39m\n\u001b[32m    241\u001b[39m     \u001b[38;5;28;01mraise\u001b[39;00m \u001b[38;5;167;01mValueError\u001b[39;00m(\u001b[33m'\u001b[39m\u001b[33munexpected keyword arguments: \u001b[39m\u001b[38;5;132;01m{!r}\u001b[39;00m\u001b[33m'\u001b[39m.format(kwargs))\n\u001b[32m    243\u001b[39m \u001b[38;5;28;01mif\u001b[39;00m port \u001b[38;5;129;01mis\u001b[39;00m \u001b[38;5;129;01mnot\u001b[39;00m \u001b[38;5;28;01mNone\u001b[39;00m:\n\u001b[32m--> \u001b[39m\u001b[32m244\u001b[39m     \u001b[38;5;28;43mself\u001b[39;49m\u001b[43m.\u001b[49m\u001b[43mopen\u001b[49m\u001b[43m(\u001b[49m\u001b[43m)\u001b[49m\n",
      "\u001b[36mFile \u001b[39m\u001b[32m~\\anaconda3\\envs\\meas_head\\Lib\\site-packages\\serial\\serialwin32.py:64\u001b[39m, in \u001b[36mSerial.open\u001b[39m\u001b[34m(self)\u001b[39m\n\u001b[32m     62\u001b[39m \u001b[38;5;28;01mif\u001b[39;00m \u001b[38;5;28mself\u001b[39m._port_handle == win32.INVALID_HANDLE_VALUE:\n\u001b[32m     63\u001b[39m     \u001b[38;5;28mself\u001b[39m._port_handle = \u001b[38;5;28;01mNone\u001b[39;00m    \u001b[38;5;66;03m# 'cause __del__ is called anyway\u001b[39;00m\n\u001b[32m---> \u001b[39m\u001b[32m64\u001b[39m     \u001b[38;5;28;01mraise\u001b[39;00m SerialException(\u001b[33m\"\u001b[39m\u001b[33mcould not open port \u001b[39m\u001b[38;5;132;01m{!r}\u001b[39;00m\u001b[33m: \u001b[39m\u001b[38;5;132;01m{!r}\u001b[39;00m\u001b[33m\"\u001b[39m.format(\u001b[38;5;28mself\u001b[39m.portstr, ctypes.WinError()))\n\u001b[32m     66\u001b[39m \u001b[38;5;28;01mtry\u001b[39;00m:\n\u001b[32m     67\u001b[39m     \u001b[38;5;28mself\u001b[39m._overlapped_read = win32.OVERLAPPED()\n",
      "\u001b[31mSerialException\u001b[39m: could not open port 'COM5': PermissionError(13, 'Access is denied.', None, 5)"
     ]
    }
   ],
   "source": [
    "my_head = head.MeasurementHead(\"COM5\")"
   ]
  },
  {
   "cell_type": "code",
   "execution_count": 3,
   "id": "7d7e7c32-96c7-46c1-b5f4-772d7e81b937",
   "metadata": {},
   "outputs": [
    {
     "name": "stdout",
     "output_type": "stream",
     "text": [
      "ACK b'\\xaa\\xaa\\x06\\x816'\n"
     ]
    }
   ],
   "source": [
    "my_head.ack()"
   ]
  },
  {
   "cell_type": "code",
   "execution_count": 5,
   "id": "fca9506e-e62e-4abd-9cf8-65ea04506ec3",
   "metadata": {},
   "outputs": [
    {
     "ename": "AttributeError",
     "evalue": "type object 'MeasurementHead' has no attribute 'ser'",
     "output_type": "error",
     "traceback": [
      "\u001b[31m---------------------------------------------------------------------------\u001b[39m",
      "\u001b[31mAttributeError\u001b[39m                            Traceback (most recent call last)",
      "\u001b[36mCell\u001b[39m\u001b[36m \u001b[39m\u001b[32mIn[5]\u001b[39m\u001b[32m, line 1\u001b[39m\n\u001b[32m----> \u001b[39m\u001b[32m1\u001b[39m \u001b[43mmy_head\u001b[49m\u001b[43m.\u001b[49m\u001b[43mread\u001b[49m\u001b[43m(\u001b[49m\u001b[43m)\u001b[49m\n",
      "\u001b[36mFile \u001b[39m\u001b[32m~\\Documents\\GitHub\\RR_measurment_head_python\\rr_python_sdk\\__init__.py:101\u001b[39m, in \u001b[36mread\u001b[39m\u001b[34m(self)\u001b[39m\n\u001b[32m     99\u001b[39m \u001b[38;5;66;03m# --- Wait for sync bytes ---\u001b[39;00m\n\u001b[32m    100\u001b[39m \u001b[38;5;28;01mwhile\u001b[39;00m \u001b[38;5;28;01mTrue\u001b[39;00m:\n\u001b[32m--> \u001b[39m\u001b[32m101\u001b[39m     sync = \u001b[38;5;28;43mself\u001b[39;49m\u001b[43m.\u001b[49m\u001b[43mser\u001b[49m.read(\u001b[32m1\u001b[39m)\n\u001b[32m    102\u001b[39m     \u001b[38;5;28;01mif\u001b[39;00m \u001b[38;5;129;01mnot\u001b[39;00m sync:\n\u001b[32m    103\u001b[39m         \u001b[38;5;28;01mreturn\u001b[39;00m Message(cpp.MsgType_ToHost.NoMessage, \u001b[32m0\u001b[39m)\n",
      "\u001b[31mAttributeError\u001b[39m: type object 'MeasurementHead' has no attribute 'ser'"
     ]
    }
   ],
   "source": [
    "my_head.read()"
   ]
  },
  {
   "cell_type": "code",
   "execution_count": 6,
   "id": "116be139-77c7-4b94-be84-f070513dd301",
   "metadata": {},
   "outputs": [
    {
     "ename": "SyntaxError",
     "evalue": "invalid syntax (3813758584.py, line 1)",
     "output_type": "error",
     "traceback": [
      "  \u001b[36mCell\u001b[39m\u001b[36m \u001b[39m\u001b[32mIn[6]\u001b[39m\u001b[32m, line 1\u001b[39m\n\u001b[31m    \u001b[39m\u001b[31mhead.cpp.AccelerationData().git/\u001b[39m\n                                    ^\n\u001b[31mSyntaxError\u001b[39m\u001b[31m:\u001b[39m invalid syntax\n"
     ]
    }
   ],
   "source": [
    "head.cpp.AccelerationData()"
   ]
  },
  {
   "cell_type": "code",
   "execution_count": null,
   "id": "7d221b60-a043-4b2d-bdbe-ce9ce620b18c",
   "metadata": {},
   "outputs": [],
   "source": [
    "head.cpp.MsgType_ToHost."
   ]
  },
  {
   "cell_type": "code",
   "execution_count": 26,
   "id": "9c1e1d35-6580-4779-a214-1e47843ac421",
   "metadata": {},
   "outputs": [
    {
     "name": "stdout",
     "output_type": "stream",
     "text": [
      "Sent force_data_point_t: 0x00 0x02 0x00 0x00 0x00 0x40 0xE2 0x01 0x00 0x0F 0x04 0xF6 0xFF 0xF4 0x01\n"
     ]
    }
   ],
   "source": [
    "# --- Force Data Point ---\n",
    "force = cpp.ForceDataPoint()  # corresponds to force_data_point_t\n",
    "force.device_status = 2\n",
    "force.f_normal_mn = 123456\n",
    "force.f_tangential_mn = -654321\n",
    "force.millis_since_start = 500\n",
    "\n",
    "# Serialize to bytes\n",
    "# We'll use memoryview/bytearray approach\n",
    "force_bytes = force.serialize()\n",
    "\n",
    "# Prepend tag for ESP (0x00)\n",
    "frame = bytes([0x00]) + force_bytes\n",
    "ser.write(frame)\n",
    "print(\"Sent force_data_point_t: 0x\" + ' 0x'.join(f'{x:02X}' for x in frame)[0:])"
   ]
  },
  {
   "cell_type": "code",
   "execution_count": 25,
   "id": "bb949292-716b-4733-87c7-75edbc041302",
   "metadata": {},
   "outputs": [
    {
     "name": "stdout",
     "output_type": "stream",
     "text": [
      "Sent acceleration_data_t: b'\\xcd\\xcc\\x8c?\\xcd\\xcc\\x0c@33S@\\xcd\\xcc\\x8c@'\n"
     ]
    }
   ],
   "source": [
    "# AccelerationData\n",
    "accel = cpp.AccelerationData()\n",
    "accel.x = 1.1\n",
    "accel.y = 2.2\n",
    "accel.z = 3.3\n",
    "accel.t = 4.4\n",
    "\n",
    "accel_bytes = accel.serialize()\n",
    "ser.write(bytes([0x01]) + accel_bytes)\n",
    "print(\"Sent acceleration_data_t:\", accel_bytes)"
   ]
  },
  {
   "cell_type": "code",
   "execution_count": 35,
   "id": "4a72854c-9b85-459d-bedc-54b420e631a2",
   "metadata": {},
   "outputs": [
    {
     "name": "stdout",
     "output_type": "stream",
     "text": [
      "Sending 14 bytes: b'Hello ESP32!\\r\\n'\n",
      "Received 14 bytes: b'Hello ESP32!\\r\\n'\n",
      "✅ Echo OK\n"
     ]
    }
   ],
   "source": [
    "payload = b\"Hello ESP32!\\r\\n\"\n",
    "\n",
    "print(f\"Sending {len(payload)} bytes: {payload}\")\n",
    "ser.write(payload)\n",
    "\n",
    "# Read back the same number of bytes\n",
    "rx = ser.read(len(payload))\n",
    "print(f\"Received {len(rx)} bytes: {rx}\")\n",
    "\n",
    "# Compare\n",
    "if rx == payload:\n",
    "    print(\"✅ Echo OK\")\n",
    "else:\n",
    "    print(\"❌ Mismatch!\")\n",
    "    print(\"Sent :\", binascii.hexlify(payload))\n",
    "    print(\"Recv :\", binascii.hexlify(rx))"
   ]
  },
  {
   "cell_type": "code",
   "execution_count": 22,
   "id": "1b36a663-a020-4bf7-be02-691514100787",
   "metadata": {},
   "outputs": [
    {
     "data": {
      "text/plain": [
       "'00 0x02 0x00 0x00 0x00 0x40 0xE2 0x01 0x00 0x0F 0x04 0xF6 0xFF 0xF4 0x01'"
      ]
     },
     "execution_count": 22,
     "metadata": {},
     "output_type": "execute_result"
    }
   ],
   "source": []
  },
  {
   "cell_type": "code",
   "execution_count": null,
   "id": "147fc6df-ec94-4801-8951-c78a998af536",
   "metadata": {},
   "outputs": [],
   "source": []
  },
  {
   "cell_type": "code",
   "execution_count": null,
   "id": "9ff32492-e0b8-469f-a654-c3008336652b",
   "metadata": {},
   "outputs": [],
   "source": []
  },
  {
   "cell_type": "code",
   "execution_count": 37,
   "id": "be4fa0b2-30bd-4033-bc17-4f310c7ae1be",
   "metadata": {},
   "outputs": [],
   "source": [
    "ser.close()"
   ]
  },
  {
   "cell_type": "code",
   "execution_count": null,
   "id": "8dbb1aee-ef1c-4788-8e51-d448d2b4deb4",
   "metadata": {},
   "outputs": [],
   "source": []
  },
  {
   "cell_type": "code",
   "execution_count": null,
   "id": "3e519db0-698c-4f65-b4f8-6827fe268e26",
   "metadata": {},
   "outputs": [],
   "source": [
    "head = sdk.MeasurmentHead(port = \"COM11\")\n",
    "head.read_all_input()"
   ]
  },
  {
   "cell_type": "markdown",
   "id": "2c72c061-7ed8-4cc1-9a96-80bf7c9495c1",
   "metadata": {},
   "source": [
    "# Test all functions\n",
    " (In order they are in the microcontroller code)"
   ]
  },
  {
   "cell_type": "markdown",
   "id": "4d58b538-2516-4967-9541-1de58185d347",
   "metadata": {},
   "source": [
    "## Angle setting"
   ]
  },
  {
   "cell_type": "code",
   "execution_count": null,
   "id": "8492bf17-6d35-4aa7-a09a-8f8b85ce23d4",
   "metadata": {},
   "outputs": [],
   "source": [
    "head.set_angle(10)"
   ]
  },
  {
   "cell_type": "markdown",
   "id": "75209a5e-bd1b-484b-ae4e-93a9480ae081",
   "metadata": {},
   "source": [
    "## Echo input"
   ]
  },
  {
   "cell_type": "code",
   "execution_count": null,
   "id": "f9b2bcc5-6b0d-4862-86aa-2453f933cad1",
   "metadata": {},
   "outputs": [],
   "source": [
    "head.echo(b\"Hello\")"
   ]
  },
  {
   "cell_type": "markdown",
   "id": "1d8b0321-7a4b-4d87-8bb8-e272dd15e290",
   "metadata": {},
   "source": [
    "## Read and write config data\n",
    "Note, the default config will be reloaded when the device restarts"
   ]
  },
  {
   "cell_type": "code",
   "execution_count": null,
   "id": "37b0ebf7-08f9-4d42-a570-84daa207353f",
   "metadata": {},
   "outputs": [],
   "source": [
    "config = head.read_config_data()\n",
    "config.microsteps_per_step"
   ]
  },
  {
   "cell_type": "code",
   "execution_count": null,
   "id": "2739cf09-f8be-44f0-9a84-188e2a983901",
   "metadata": {},
   "outputs": [],
   "source": [
    "config.t_force_scale"
   ]
  },
  {
   "cell_type": "code",
   "execution_count": null,
   "id": "3c8a04ad-6371-433d-8a97-ed28c56b0e9e",
   "metadata": {},
   "outputs": [],
   "source": [
    "config.microsteps_per_step = 8"
   ]
  },
  {
   "cell_type": "code",
   "execution_count": null,
   "id": "36d89dea-1efc-4a52-8491-4488b637c4d1",
   "metadata": {},
   "outputs": [],
   "source": [
    "head.update_config_data(config)"
   ]
  },
  {
   "cell_type": "code",
   "execution_count": null,
   "id": "ab928f55-a3ea-4af4-aeaf-e4ef337dfa6f",
   "metadata": {},
   "outputs": [],
   "source": [
    "config = head.read_config_data()"
   ]
  },
  {
   "cell_type": "code",
   "execution_count": null,
   "id": "fc64205e-d6e0-42d5-8130-bf48d5ea234f",
   "metadata": {},
   "outputs": [],
   "source": [
    "config.microsteps_per_step"
   ]
  },
  {
   "cell_type": "markdown",
   "id": "98dbf38b-2ea5-4612-9844-3dc7809968ae",
   "metadata": {},
   "source": [
    "## Data streaming"
   ]
  },
  {
   "cell_type": "code",
   "execution_count": null,
   "id": "660ee366-2483-44cb-92fc-11ebdf1b1923",
   "metadata": {},
   "outputs": [],
   "source": [
    "i = 0\n",
    "points = []\n",
    "head.read_all_input()\n",
    "head.start_streaming_force_data(100)\n",
    "while (i<200):\n",
    "    points.append(head.read_force_data_point_from_stream())\n",
    "    i+=1\n",
    "head.stop_streaming_force_data()\n",
    "#plt.plot([p.ms_since_start for p in points], [p.f_t_mn/p.f_n_mn for p in points], label=\"mu\")\n",
    "plt.plot([p.ms_since_start for p in points], [p.f_n_mn for p in points], label=\"Normal force (mn)\")\n",
    "plt.plot([p.ms_since_start for p in points], [p.f_t_mn for p in points], label=\"Tangential force (mn)\")\n",
    "plt.legend()"
   ]
  },
  {
   "cell_type": "code",
   "execution_count": null,
   "id": "b64269e9-3d65-4182-b62b-870f1bc954b0",
   "metadata": {},
   "outputs": [],
   "source": [
    "head.stop_streaming_force_data()\n",
    "head.read_all_input()"
   ]
  },
  {
   "cell_type": "markdown",
   "id": "2aa905af-bf37-4af7-ab49-32f416c54e06",
   "metadata": {},
   "source": [
    "## Show and reset error data"
   ]
  },
  {
   "cell_type": "code",
   "execution_count": null,
   "id": "a1d9f20e-a104-402e-aaa9-599b83aaae35",
   "metadata": {},
   "outputs": [],
   "source": [
    "f\"{head.read_error_status():016b}\""
   ]
  },
  {
   "cell_type": "code",
   "execution_count": null,
   "id": "4f7e9543-51e6-421d-874f-8eb464d0dccf",
   "metadata": {},
   "outputs": [],
   "source": [
    "head.clear_error_status()"
   ]
  },
  {
   "cell_type": "markdown",
   "id": "2ddcde89-35a3-4b38-a353-7f30695f6c90",
   "metadata": {},
   "source": [
    "## Setting target force"
   ]
  },
  {
   "cell_type": "code",
   "execution_count": null,
   "id": "7a5cad10-805d-4e06-ae59-41405e70f224",
   "metadata": {},
   "outputs": [],
   "source": [
    "head.set_target_force(100000)"
   ]
  },
  {
   "cell_type": "markdown",
   "id": "5d9c1938-f534-42c8-95cc-26296b22244a",
   "metadata": {},
   "source": [
    "## Home"
   ]
  },
  {
   "cell_type": "code",
   "execution_count": null,
   "id": "959b1fac-2339-4fd6-a6b7-82a036761eb1",
   "metadata": {},
   "outputs": [],
   "source": [
    "head.home()"
   ]
  },
  {
   "cell_type": "markdown",
   "id": "7b1b5561-d12f-4740-a05c-7af7ca11ee4b",
   "metadata": {},
   "source": [
    "## Jog"
   ]
  },
  {
   "cell_type": "code",
   "execution_count": null,
   "id": "1a9d509e-88e7-4e6b-b749-307e1167cf8e",
   "metadata": {},
   "outputs": [],
   "source": [
    "head.jog(100)"
   ]
  },
  {
   "cell_type": "markdown",
   "id": "31cef3fe-12e8-4371-a2ff-1478e3b8565c",
   "metadata": {},
   "source": [
    "## Toggle LEDS"
   ]
  },
  {
   "cell_type": "code",
   "execution_count": null,
   "id": "5377f698-c087-4b67-9f46-6a6cbb0c1b9d",
   "metadata": {},
   "outputs": [],
   "source": [
    "head.toggle_led(True)\n",
    "time.sleep(0.5)\n",
    "head.toggle_led(False)\n",
    "time.sleep(0.5)\n",
    "head.toggle_led(True)\n",
    "time.sleep(0.5)\n",
    "head.toggle_led(False)"
   ]
  },
  {
   "cell_type": "markdown",
   "id": "c44c13c9-59a1-4ae2-b987-e43f078f6f17",
   "metadata": {},
   "source": [
    "## Change state to None"
   ]
  },
  {
   "cell_type": "code",
   "execution_count": null,
   "id": "3caefa97-03fc-4ccf-a823-9e25a4b5b0d2",
   "metadata": {},
   "outputs": [],
   "source": [
    "head.stop_all()"
   ]
  },
  {
   "cell_type": "markdown",
   "id": "b75f4a23-2ff4-4c6e-8af3-85779f335ac7",
   "metadata": {},
   "source": [
    "## Send current data"
   ]
  },
  {
   "cell_type": "code",
   "execution_count": null,
   "id": "3872b74e-e19c-46b2-b40c-a7524a6556cf",
   "metadata": {},
   "outputs": [],
   "source": [
    "head.read_single_force_data_point()"
   ]
  },
  {
   "cell_type": "markdown",
   "id": "266de965-da9c-4e14-a3cd-01965f02403d",
   "metadata": {},
   "source": [
    "## Restart"
   ]
  },
  {
   "cell_type": "code",
   "execution_count": null,
   "id": "23c5ea50-aa5f-47e0-9773-c8eb8ceee271",
   "metadata": {},
   "outputs": [],
   "source": [
    "head.restart()"
   ]
  },
  {
   "cell_type": "code",
   "execution_count": null,
   "id": "8e501b4d-6189-4e9b-b5c8-577ea75b7004",
   "metadata": {},
   "outputs": [],
   "source": [
    "head.read_all_input()"
   ]
  },
  {
   "cell_type": "markdown",
   "id": "d7e59bd5-4d67-4545-bc45-916139de10e2",
   "metadata": {},
   "source": [
    "## Start test"
   ]
  },
  {
   "cell_type": "code",
   "execution_count": null,
   "id": "78ff3748-f577-45d1-b3f4-b070f5fad1a6",
   "metadata": {},
   "outputs": [],
   "source": [
    "head.maintain_force(100000)"
   ]
  },
  {
   "cell_type": "code",
   "execution_count": null,
   "id": "0ed65344-7e15-4c2b-b78e-027760402cfe",
   "metadata": {},
   "outputs": [],
   "source": [
    "i = 0\n",
    "points = []\n",
    "head.read_all_input()\n",
    "head.start_streaming_force_data(100)\n",
    "while (i<200):\n",
    "    points.append(head.read_force_data_point_from_stream())\n",
    "    i+=1\n",
    "head.stop_streaming_force_data()\n",
    "\n",
    "centre=0\n",
    "vals = np.sort([p.f_t_mn for p in points])\n",
    "span = np.mean(vals[-50:])-np.mean(vals[:50])\n",
    "plt.plot([p.ms_since_start for p in points], [p.f_n_mn for p in points], label=\"Normal force (mn)\")\n",
    "plt.plot([p.ms_since_start for p in points], [p.f_t_mn for p in points], label=\"Tangential force (mn)\")\n",
    "plt.plot([0,2000], [centre, centre], 'k:')\n",
    "plt.plot([0,2000], [centre-span/2, centre-span/2], 'g-')\n",
    "plt.plot([0,2000], [centre+span/2, centre+span/2], 'g-')\n",
    "plt.legend()"
   ]
  },
  {
   "cell_type": "code",
   "execution_count": null,
   "id": "1120c553-b59a-43b4-9b0f-41192a7333c5",
   "metadata": {},
   "outputs": [],
   "source": [
    "head.stop_all()"
   ]
  },
  {
   "cell_type": "markdown",
   "id": "09996547-b9e8-4911-a172-ec4d858e0fbf",
   "metadata": {},
   "source": [
    "## Zero all forces"
   ]
  },
  {
   "cell_type": "code",
   "execution_count": null,
   "id": "5f45c755-2fa8-4aec-9937-eec6cc0fcf74",
   "metadata": {},
   "outputs": [],
   "source": [
    "head.home()"
   ]
  },
  {
   "cell_type": "code",
   "execution_count": null,
   "id": "01c41969-ffeb-4d5a-a177-670e7d8801c8",
   "metadata": {},
   "outputs": [],
   "source": [
    "head.zero_forces()"
   ]
  },
  {
   "cell_type": "markdown",
   "id": "fb0f02cc-b07c-4bdf-8bd9-1fe3b889f79c",
   "metadata": {},
   "source": [
    "## Incline and roll"
   ]
  },
  {
   "cell_type": "code",
   "execution_count": null,
   "id": "07bd9f68-656d-4d80-be71-5f4172ec73ba",
   "metadata": {},
   "outputs": [],
   "source": [
    "head.read_all_input()\n",
    "head.read_orientation_data()"
   ]
  }
 ],
 "metadata": {
  "kernelspec": {
   "display_name": "Python 3 (ipykernel)",
   "language": "python",
   "name": "python3"
  },
  "language_info": {
   "codemirror_mode": {
    "name": "ipython",
    "version": 3
   },
   "file_extension": ".py",
   "mimetype": "text/x-python",
   "name": "python",
   "nbconvert_exporter": "python",
   "pygments_lexer": "ipython3",
   "version": "3.13.5"
  }
 },
 "nbformat": 4,
 "nbformat_minor": 5
}
